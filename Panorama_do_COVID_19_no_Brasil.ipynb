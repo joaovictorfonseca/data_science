{
  "nbformat": 4,
  "nbformat_minor": 0,
  "metadata": {
    "colab": {
      "name": "Panorama do COVID-19 no Brasil.ipynb",
      "provenance": [],
      "collapsed_sections": [],
      "toc_visible": true,
      "include_colab_link": true
    },
    "kernelspec": {
      "name": "python3",
      "display_name": "Python 3"
    }
  },
  "cells": [
    {
      "cell_type": "markdown",
      "metadata": {
        "id": "view-in-github",
        "colab_type": "text"
      },
      "source": [
        "<a href=\"https://colab.research.google.com/github/joaovictorfonseca/data_science/blob/master/Panorama_do_COVID_19_no_Brasil.ipynb\" target=\"_parent\"><img src=\"https://colab.research.google.com/assets/colab-badge.svg\" alt=\"Open In Colab\"/></a>"
      ]
    },
    {
      "cell_type": "markdown",
      "metadata": {
        "id": "-eFQZydM9O9J",
        "colab_type": "text"
      },
      "source": [
        "#### **Data Science na Prática 2.0- Projeto 03**\n",
        "*by [João Victor Fonseca](www.linkedin.com/in/joao-victor-silva-da-fonseca)*  \n",
        "\n",
        "---\n",
        "  "
      ]
    },
    {
      "cell_type": "markdown",
      "metadata": {
        "id": "kLI0gJtzDGuQ",
        "colab_type": "text"
      },
      "source": [
        "# Panorama do COVID-19 no Brasil\n",
        "\n",
        "COVID-19 é uma doença infecciosa causada por recém-descoberto coronavírus.\n",
        "\n",
        "Transmitido principalmente por meio de gotículas provenientes de tosses ou espirros de pessoas infectadas, a gravidade dos sintomas varia muito de pessoa para pessoa.\n",
        "\n",
        "Fato é, não se sabe muita coisa a respeito do COVID-19. Estudos estão sendo realizados no mundo todo, porém os resultados ainda não são conclusivos e definitivos.\n",
        "\n",
        "<center><img alt=\"Colaboratory logo\" width=\"50%\" src=\"https://raw.githubusercontent.com/carlosfab/dsnp2/master/img/covid19.jpg\"></center>\n",
        "\n",
        "Até o presente momento, observa-se que cerca de 80% dos casos confirmados são assintomáticos e rápidos. A maioria das pessoas que se encaixam nesse grupo, se recupera sem nenhuma sequela.\n",
        "\n",
        "No entanto, 15% das pessoas terão infecções graves e precisarão de oxigênio. O restante das pessoas, que representam 5%, serão classificadas como infecções muito graves e precisarão de ventilação assistida, por meio de respiradores mecânicos em ambiente hospitalar.\n",
        "\n",
        "Com o objetivo de elevar a consciência situacional a respeito do COVID-19 no Brasil, irei realizar uma análise sobre os dados públicos da doença."
      ]
    },
    {
      "cell_type": "markdown",
      "metadata": {
        "id": "0zxQHhIUDF_2",
        "colab_type": "text"
      },
      "source": [
        "## Obtenção dos Dados\n",
        "\n",
        "Os dados a serem utilizados nesse notebook foram adquiridos no [Our World on Data]('https://covid.ourworldindata.org/') disponibilizados como open acess e atualizados regurlamente utilizando fontes de renome como a organização mundial da saúde e o centro europeu de controle e prevenção de doenças. Por se tratar de um dataset complexo com múltiplas entradas e colunas, esperamos não usá-lo completamente e sim, focar em alguns aspectos considerados mais relevantes.\n",
        "\n",
        "\n",
        "Como o CoViD-19 é uma doença recente e surpreendeu negativamente o mundo em um piscar de olhos, houve dificuldade em muitos locais para a obtenção de dados corretos, seja por subnotificação ou até mesmo por dados em conflito como em casos em que o governo federal cedeu, para um estado, um número diferente do entregue por este mesmo estado.\n",
        "\n",
        "\n",
        "### Dicionário de Variáveis\n",
        "* *A segir, temos as colunas de nosso dataset e o que cada uma representa:*\n",
        "    * *`iso_code`* : Sigla internacional de cada País\n",
        "    * *`continent`* : Continente\n",
        "    * *`location`* : Localidade\n",
        "    * *`date`* : Data da observação\n",
        "    * *`total_cases`* : Número acumulado de casos de CoViD-19\n",
        "    * *`new_cases`* : Novos casos confirmados na data\n",
        "    * *`total_deaths`* : Número acumulado de mortes por CoViD-19\n",
        "    * *`new_deaths`* : Novas mortes confirmadas na data\n",
        "    * *`total_cases_per_million`* : Número acumulado de casos a cada 1 milhão de habitantes\n",
        "    * *`new_cases_per_million`* : Novos casos a cada 1 milhão de habitantes\n",
        "    * *`total_deaths_per_million`* : Número acumulado de mortes a cada 1 milhão de habitantes\n",
        "    * *`new_deaths_per_million`* : Novas mortes confirmadas a cada 1 milhão de habitantes\n",
        "    * *`total_tests`* : Quantidade total de testes\n",
        "    * *`new_tests`* : Novos testes\n",
        "    * *`new_tests_smoothed`* : Novos testes para países que não disponibilizam informações diárias\n",
        "    * *`total_tests_per_thousand`* : Total de testes a cada mil habitantes\n",
        "    * *`new_tests_per_thousand`* : Novos testes a cada mil habitantes\n",
        "    * *`tests_units`* : Tipo de teste usado\n",
        "    * *`stringency_index`* : Métrica para o quão severo foram as medidas  governamentais frente a pandemia (número entre 0 e 100)\n",
        "    * *`population`* : Número de habitantes\n",
        "    * *`population_density`* : Densidade populacional\n",
        "    * *`median_age`* : Idade mediana da população\n",
        "    * *`aged_65_older`* : Porcentagem da população acima de 65 anos\n",
        "    * *`aged_70_older`* : Porcentagem da população acima de 70 anos\n",
        "    * *`gdp_per_capita`* : Indicador de poder de compra por pessoa\n",
        "    * *`extreme_poverty`* : Porcentagem da população que passa por pobreza extrema\n",
        "    * *`cvd_death_rate`* : Taxa de mortalidade de doenças cardiovasculares em 2017\n",
        "    * *`diabetes_prevalence`* : Porcentagem da população entre 20 e 79 anos que possuem diabetes (dados de 2017)\n",
        "    * *`female_smokers`* : Porcentagem de mulheres fumantes\n",
        "    * *`male_smokers`* : Porcentagem de homens fumantes\n",
        "    * *`handwashing_facilities`* : Porcentagem da população com acesso a higiene básica\n",
        "    * *`hospital_beds_per_thousand`* : Número de leitos hospitalares para cada mil habitantes\n",
        "    * *`life_expectancy`* : Expectativa de vida (dados de 2019)\n",
        "\n",
        "\n",
        "### Importando os dados\n",
        "\n",
        "* Usaremos o arquivo csv disponível no [github da Our World on Data]('https://github.com/owid/covid-19-data/blob/master/public/data/owid-covid-data.csv') que foi atualizado no dia 03 de Julho de 2020.\n",
        "    \n",
        "* Abaixo importaremos algumas bibliotecas fundamentais para a realização do projeto."
      ]
    },
    {
      "cell_type": "code",
      "metadata": {
        "id": "lOtEJxe0DMEb",
        "colab_type": "code",
        "colab": {}
      },
      "source": [
        "import pandas as pd\n",
        "import matplotlib.pyplot as plt\n",
        "import seaborn as sns\n",
        "import numpy as np\n",
        "\n",
        "# importando o dataset para um dataframe\n",
        "df = pd.read_csv('https://raw.githubusercontent.com/owid/covid-19-data/master/public/data/owid-covid-data.csv')\n"
      ],
      "execution_count": null,
      "outputs": []
    },
    {
      "cell_type": "markdown",
      "metadata": {
        "id": "qb5By2nIMS6m",
        "colab_type": "text"
      },
      "source": [
        "## Análise Exploratória dos Dados\n",
        "\n",
        "*Para uma análise inicial iremos verificar alguns aspectos do nosso dataframe que podem dificultar ou até mesmo contaminar resultados com a falta de valores informados. Após a verificação podemos começar um trabalho mais visual utilizando diversos gráficos para facilitar o entendimento e extrair relações entre índices*\n",
        "\n",
        "\n",
        "\n"
      ]
    },
    {
      "cell_type": "markdown",
      "metadata": {
        "id": "__TfiNtiPPA6",
        "colab_type": "text"
      },
      "source": [
        "Primeiramente, vamos observar as cinco primeiras entradas e o formato do nosso banco de dados:"
      ]
    },
    {
      "cell_type": "code",
      "metadata": {
        "id": "CoOda521H-Uf",
        "colab_type": "code",
        "colab": {
          "base_uri": "https://localhost:8080/",
          "height": 309
        },
        "outputId": "c31ea43e-684e-40f9-a23f-623133fea67a"
      },
      "source": [
        "df.head()"
      ],
      "execution_count": null,
      "outputs": [
        {
          "output_type": "execute_result",
          "data": {
            "text/html": [
              "<div>\n",
              "<style scoped>\n",
              "    .dataframe tbody tr th:only-of-type {\n",
              "        vertical-align: middle;\n",
              "    }\n",
              "\n",
              "    .dataframe tbody tr th {\n",
              "        vertical-align: top;\n",
              "    }\n",
              "\n",
              "    .dataframe thead th {\n",
              "        text-align: right;\n",
              "    }\n",
              "</style>\n",
              "<table border=\"1\" class=\"dataframe\">\n",
              "  <thead>\n",
              "    <tr style=\"text-align: right;\">\n",
              "      <th></th>\n",
              "      <th>iso_code</th>\n",
              "      <th>continent</th>\n",
              "      <th>location</th>\n",
              "      <th>date</th>\n",
              "      <th>total_cases</th>\n",
              "      <th>new_cases</th>\n",
              "      <th>total_deaths</th>\n",
              "      <th>new_deaths</th>\n",
              "      <th>total_cases_per_million</th>\n",
              "      <th>new_cases_per_million</th>\n",
              "      <th>total_deaths_per_million</th>\n",
              "      <th>new_deaths_per_million</th>\n",
              "      <th>total_tests</th>\n",
              "      <th>new_tests</th>\n",
              "      <th>total_tests_per_thousand</th>\n",
              "      <th>new_tests_per_thousand</th>\n",
              "      <th>new_tests_smoothed</th>\n",
              "      <th>new_tests_smoothed_per_thousand</th>\n",
              "      <th>tests_units</th>\n",
              "      <th>stringency_index</th>\n",
              "      <th>population</th>\n",
              "      <th>population_density</th>\n",
              "      <th>median_age</th>\n",
              "      <th>aged_65_older</th>\n",
              "      <th>aged_70_older</th>\n",
              "      <th>gdp_per_capita</th>\n",
              "      <th>extreme_poverty</th>\n",
              "      <th>cvd_death_rate</th>\n",
              "      <th>diabetes_prevalence</th>\n",
              "      <th>female_smokers</th>\n",
              "      <th>male_smokers</th>\n",
              "      <th>handwashing_facilities</th>\n",
              "      <th>hospital_beds_per_thousand</th>\n",
              "      <th>life_expectancy</th>\n",
              "    </tr>\n",
              "  </thead>\n",
              "  <tbody>\n",
              "    <tr>\n",
              "      <th>0</th>\n",
              "      <td>AFG</td>\n",
              "      <td>Asia</td>\n",
              "      <td>Afghanistan</td>\n",
              "      <td>2019-12-31</td>\n",
              "      <td>0.0</td>\n",
              "      <td>0.0</td>\n",
              "      <td>0.0</td>\n",
              "      <td>0.0</td>\n",
              "      <td>0.0</td>\n",
              "      <td>0.0</td>\n",
              "      <td>0.0</td>\n",
              "      <td>0.0</td>\n",
              "      <td>NaN</td>\n",
              "      <td>NaN</td>\n",
              "      <td>NaN</td>\n",
              "      <td>NaN</td>\n",
              "      <td>NaN</td>\n",
              "      <td>NaN</td>\n",
              "      <td>NaN</td>\n",
              "      <td>NaN</td>\n",
              "      <td>38928341.0</td>\n",
              "      <td>54.422</td>\n",
              "      <td>18.6</td>\n",
              "      <td>2.581</td>\n",
              "      <td>1.337</td>\n",
              "      <td>1803.987</td>\n",
              "      <td>NaN</td>\n",
              "      <td>597.029</td>\n",
              "      <td>9.59</td>\n",
              "      <td>NaN</td>\n",
              "      <td>NaN</td>\n",
              "      <td>37.746</td>\n",
              "      <td>0.5</td>\n",
              "      <td>64.83</td>\n",
              "    </tr>\n",
              "    <tr>\n",
              "      <th>1</th>\n",
              "      <td>AFG</td>\n",
              "      <td>Asia</td>\n",
              "      <td>Afghanistan</td>\n",
              "      <td>2020-01-01</td>\n",
              "      <td>0.0</td>\n",
              "      <td>0.0</td>\n",
              "      <td>0.0</td>\n",
              "      <td>0.0</td>\n",
              "      <td>0.0</td>\n",
              "      <td>0.0</td>\n",
              "      <td>0.0</td>\n",
              "      <td>0.0</td>\n",
              "      <td>NaN</td>\n",
              "      <td>NaN</td>\n",
              "      <td>NaN</td>\n",
              "      <td>NaN</td>\n",
              "      <td>NaN</td>\n",
              "      <td>NaN</td>\n",
              "      <td>NaN</td>\n",
              "      <td>0.0</td>\n",
              "      <td>38928341.0</td>\n",
              "      <td>54.422</td>\n",
              "      <td>18.6</td>\n",
              "      <td>2.581</td>\n",
              "      <td>1.337</td>\n",
              "      <td>1803.987</td>\n",
              "      <td>NaN</td>\n",
              "      <td>597.029</td>\n",
              "      <td>9.59</td>\n",
              "      <td>NaN</td>\n",
              "      <td>NaN</td>\n",
              "      <td>37.746</td>\n",
              "      <td>0.5</td>\n",
              "      <td>64.83</td>\n",
              "    </tr>\n",
              "    <tr>\n",
              "      <th>2</th>\n",
              "      <td>AFG</td>\n",
              "      <td>Asia</td>\n",
              "      <td>Afghanistan</td>\n",
              "      <td>2020-01-02</td>\n",
              "      <td>0.0</td>\n",
              "      <td>0.0</td>\n",
              "      <td>0.0</td>\n",
              "      <td>0.0</td>\n",
              "      <td>0.0</td>\n",
              "      <td>0.0</td>\n",
              "      <td>0.0</td>\n",
              "      <td>0.0</td>\n",
              "      <td>NaN</td>\n",
              "      <td>NaN</td>\n",
              "      <td>NaN</td>\n",
              "      <td>NaN</td>\n",
              "      <td>NaN</td>\n",
              "      <td>NaN</td>\n",
              "      <td>NaN</td>\n",
              "      <td>0.0</td>\n",
              "      <td>38928341.0</td>\n",
              "      <td>54.422</td>\n",
              "      <td>18.6</td>\n",
              "      <td>2.581</td>\n",
              "      <td>1.337</td>\n",
              "      <td>1803.987</td>\n",
              "      <td>NaN</td>\n",
              "      <td>597.029</td>\n",
              "      <td>9.59</td>\n",
              "      <td>NaN</td>\n",
              "      <td>NaN</td>\n",
              "      <td>37.746</td>\n",
              "      <td>0.5</td>\n",
              "      <td>64.83</td>\n",
              "    </tr>\n",
              "    <tr>\n",
              "      <th>3</th>\n",
              "      <td>AFG</td>\n",
              "      <td>Asia</td>\n",
              "      <td>Afghanistan</td>\n",
              "      <td>2020-01-03</td>\n",
              "      <td>0.0</td>\n",
              "      <td>0.0</td>\n",
              "      <td>0.0</td>\n",
              "      <td>0.0</td>\n",
              "      <td>0.0</td>\n",
              "      <td>0.0</td>\n",
              "      <td>0.0</td>\n",
              "      <td>0.0</td>\n",
              "      <td>NaN</td>\n",
              "      <td>NaN</td>\n",
              "      <td>NaN</td>\n",
              "      <td>NaN</td>\n",
              "      <td>NaN</td>\n",
              "      <td>NaN</td>\n",
              "      <td>NaN</td>\n",
              "      <td>0.0</td>\n",
              "      <td>38928341.0</td>\n",
              "      <td>54.422</td>\n",
              "      <td>18.6</td>\n",
              "      <td>2.581</td>\n",
              "      <td>1.337</td>\n",
              "      <td>1803.987</td>\n",
              "      <td>NaN</td>\n",
              "      <td>597.029</td>\n",
              "      <td>9.59</td>\n",
              "      <td>NaN</td>\n",
              "      <td>NaN</td>\n",
              "      <td>37.746</td>\n",
              "      <td>0.5</td>\n",
              "      <td>64.83</td>\n",
              "    </tr>\n",
              "    <tr>\n",
              "      <th>4</th>\n",
              "      <td>AFG</td>\n",
              "      <td>Asia</td>\n",
              "      <td>Afghanistan</td>\n",
              "      <td>2020-01-04</td>\n",
              "      <td>0.0</td>\n",
              "      <td>0.0</td>\n",
              "      <td>0.0</td>\n",
              "      <td>0.0</td>\n",
              "      <td>0.0</td>\n",
              "      <td>0.0</td>\n",
              "      <td>0.0</td>\n",
              "      <td>0.0</td>\n",
              "      <td>NaN</td>\n",
              "      <td>NaN</td>\n",
              "      <td>NaN</td>\n",
              "      <td>NaN</td>\n",
              "      <td>NaN</td>\n",
              "      <td>NaN</td>\n",
              "      <td>NaN</td>\n",
              "      <td>0.0</td>\n",
              "      <td>38928341.0</td>\n",
              "      <td>54.422</td>\n",
              "      <td>18.6</td>\n",
              "      <td>2.581</td>\n",
              "      <td>1.337</td>\n",
              "      <td>1803.987</td>\n",
              "      <td>NaN</td>\n",
              "      <td>597.029</td>\n",
              "      <td>9.59</td>\n",
              "      <td>NaN</td>\n",
              "      <td>NaN</td>\n",
              "      <td>37.746</td>\n",
              "      <td>0.5</td>\n",
              "      <td>64.83</td>\n",
              "    </tr>\n",
              "  </tbody>\n",
              "</table>\n",
              "</div>"
            ],
            "text/plain": [
              "  iso_code continent  ... hospital_beds_per_thousand life_expectancy\n",
              "0      AFG      Asia  ...                        0.5           64.83\n",
              "1      AFG      Asia  ...                        0.5           64.83\n",
              "2      AFG      Asia  ...                        0.5           64.83\n",
              "3      AFG      Asia  ...                        0.5           64.83\n",
              "4      AFG      Asia  ...                        0.5           64.83\n",
              "\n",
              "[5 rows x 34 columns]"
            ]
          },
          "metadata": {
            "tags": []
          },
          "execution_count": 2
        }
      ]
    },
    {
      "cell_type": "markdown",
      "metadata": {
        "id": "ZwsgPYv1IyRk",
        "colab_type": "text"
      },
      "source": [
        "Após este pequeno passo já podemos perceber que os dados começam em 31 de dezembro de 2019 e até essa data só haviam sido registrados casos na China, assim esperamos que tenha um número considerável de linhas com número de casos igual a zero até a época que começou a dispersão do vírus mundo afora."
      ]
    },
    {
      "cell_type": "code",
      "metadata": {
        "id": "gO1fv3D1PS4k",
        "colab_type": "code",
        "colab": {
          "base_uri": "https://localhost:8080/",
          "height": 51
        },
        "outputId": "13539985-3093-4021-8501-932891963119"
      },
      "source": [
        "print(\"Linhas:{}\".format(df.shape[0]))\n",
        "print(\"Colunas:{}\".format(df.shape[1]))"
      ],
      "execution_count": null,
      "outputs": [
        {
          "output_type": "stream",
          "text": [
            "Linhas:28243\n",
            "Colunas:34\n"
          ],
          "name": "stdout"
        }
      ]
    },
    {
      "cell_type": "markdown",
      "metadata": {
        "id": "Cw4gM_gNJkdI",
        "colab_type": "text"
      },
      "source": [
        "Temos que possui 34 colunas, as quais foram devidamente explicitadas no dicionário de variáveis e próximo de 28 mil entradas diferentes."
      ]
    },
    {
      "cell_type": "markdown",
      "metadata": {
        "id": "jbhqeRfxNYH8",
        "colab_type": "text"
      },
      "source": [
        "Obtendo os nomes de cada coluna e em seguida vamos ver o `dtype` de cada uma:"
      ]
    },
    {
      "cell_type": "code",
      "metadata": {
        "id": "KtvTzLZlNc9W",
        "colab_type": "code",
        "colab": {
          "base_uri": "https://localhost:8080/",
          "height": 221
        },
        "outputId": "d786773c-9b6c-4d34-fc53-93cf4d1f02cc"
      },
      "source": [
        "df.columns"
      ],
      "execution_count": null,
      "outputs": [
        {
          "output_type": "execute_result",
          "data": {
            "text/plain": [
              "Index(['iso_code', 'continent', 'location', 'date', 'total_cases', 'new_cases',\n",
              "       'total_deaths', 'new_deaths', 'total_cases_per_million',\n",
              "       'new_cases_per_million', 'total_deaths_per_million',\n",
              "       'new_deaths_per_million', 'total_tests', 'new_tests',\n",
              "       'total_tests_per_thousand', 'new_tests_per_thousand',\n",
              "       'new_tests_smoothed', 'new_tests_smoothed_per_thousand', 'tests_units',\n",
              "       'stringency_index', 'population', 'population_density', 'median_age',\n",
              "       'aged_65_older', 'aged_70_older', 'gdp_per_capita', 'extreme_poverty',\n",
              "       'cvd_death_rate', 'diabetes_prevalence', 'female_smokers',\n",
              "       'male_smokers', 'handwashing_facilities', 'hospital_beds_per_thousand',\n",
              "       'life_expectancy'],\n",
              "      dtype='object')"
            ]
          },
          "metadata": {
            "tags": []
          },
          "execution_count": 4
        }
      ]
    },
    {
      "cell_type": "code",
      "metadata": {
        "id": "6lXXzBz7Nrhv",
        "colab_type": "code",
        "colab": {
          "base_uri": "https://localhost:8080/",
          "height": 612
        },
        "outputId": "c17ad3aa-dba5-4bfa-e21f-f7e56c6d24c1"
      },
      "source": [
        "df.dtypes"
      ],
      "execution_count": null,
      "outputs": [
        {
          "output_type": "execute_result",
          "data": {
            "text/plain": [
              "iso_code                            object\n",
              "continent                           object\n",
              "location                            object\n",
              "date                                object\n",
              "total_cases                        float64\n",
              "new_cases                          float64\n",
              "total_deaths                       float64\n",
              "new_deaths                         float64\n",
              "total_cases_per_million            float64\n",
              "new_cases_per_million              float64\n",
              "total_deaths_per_million           float64\n",
              "new_deaths_per_million             float64\n",
              "total_tests                        float64\n",
              "new_tests                          float64\n",
              "total_tests_per_thousand           float64\n",
              "new_tests_per_thousand             float64\n",
              "new_tests_smoothed                 float64\n",
              "new_tests_smoothed_per_thousand    float64\n",
              "tests_units                         object\n",
              "stringency_index                   float64\n",
              "population                         float64\n",
              "population_density                 float64\n",
              "median_age                         float64\n",
              "aged_65_older                      float64\n",
              "aged_70_older                      float64\n",
              "gdp_per_capita                     float64\n",
              "extreme_poverty                    float64\n",
              "cvd_death_rate                     float64\n",
              "diabetes_prevalence                float64\n",
              "female_smokers                     float64\n",
              "male_smokers                       float64\n",
              "handwashing_facilities             float64\n",
              "hospital_beds_per_thousand         float64\n",
              "life_expectancy                    float64\n",
              "dtype: object"
            ]
          },
          "metadata": {
            "tags": []
          },
          "execution_count": 5
        }
      ]
    },
    {
      "cell_type": "markdown",
      "metadata": {
        "id": "N4Xvb4_oOrlK",
        "colab_type": "text"
      },
      "source": [
        "Pelo tipo de cada coluna podemos ver que a maior parte dos valores são numéricos e do tipo `float64` . \n",
        "\n",
        "Além disso podemos notar algo problemático , para quando formos analisar os dados em relação ao tempo, a coluna `date` está como objeto e para trabalhar melhor com ela temos que transformá-la no padrão de datas do python que é o `datetime64`."
      ]
    },
    {
      "cell_type": "code",
      "metadata": {
        "id": "dS_20VvRQWw3",
        "colab_type": "code",
        "colab": {}
      },
      "source": [
        "df.date = pd.to_datetime(df.date,format='%Y-%m-%d')"
      ],
      "execution_count": null,
      "outputs": []
    },
    {
      "cell_type": "markdown",
      "metadata": {
        "id": "R9srvaM5Q4EF",
        "colab_type": "text"
      },
      "source": [
        "Agora iremos verificar a quantidade de dados não informados e sua porcentagem em relação ao total de entradas."
      ]
    },
    {
      "cell_type": "code",
      "metadata": {
        "id": "HSsuB-hHRatW",
        "colab_type": "code",
        "colab": {
          "base_uri": "https://localhost:8080/",
          "height": 612
        },
        "outputId": "43216f8f-5943-4c7f-af92-a21ad0f0a50b"
      },
      "source": [
        "(df.isna().sum()/df.shape[0]).sort_values()"
      ],
      "execution_count": null,
      "outputs": [
        {
          "output_type": "execute_result",
          "data": {
            "text/plain": [
              "location                           0.000000\n",
              "date                               0.000000\n",
              "iso_code                           0.002266\n",
              "population                         0.002266\n",
              "total_cases                        0.007931\n",
              "new_cases                          0.007931\n",
              "total_deaths                       0.007931\n",
              "new_deaths                         0.007931\n",
              "continent                          0.008923\n",
              "total_cases_per_million            0.010197\n",
              "new_cases_per_million              0.010197\n",
              "total_deaths_per_million           0.010197\n",
              "new_deaths_per_million             0.010197\n",
              "life_expectancy                    0.013950\n",
              "population_density                 0.043975\n",
              "diabetes_prevalence                0.067380\n",
              "cvd_death_rate                     0.096874\n",
              "median_age                         0.097936\n",
              "aged_70_older                      0.102574\n",
              "gdp_per_capita                     0.108310\n",
              "aged_65_older                      0.110789\n",
              "hospital_beds_per_thousand         0.175654\n",
              "stringency_index                   0.197111\n",
              "female_smokers                     0.278334\n",
              "male_smokers                       0.286761\n",
              "extreme_poverty                    0.404029\n",
              "handwashing_facilities             0.590837\n",
              "tests_units                        0.659987\n",
              "new_tests_smoothed                 0.682435\n",
              "new_tests_smoothed_per_thousand    0.682435\n",
              "total_tests                        0.703856\n",
              "total_tests_per_thousand           0.703856\n",
              "new_tests_per_thousand             0.719824\n",
              "new_tests                          0.719824\n",
              "dtype: float64"
            ]
          },
          "metadata": {
            "tags": []
          },
          "execution_count": 7
        }
      ]
    },
    {
      "cell_type": "markdown",
      "metadata": {
        "id": "OaK9mos2R7qM",
        "colab_type": "text"
      },
      "source": [
        "Algumas colunas tem 0,02% de informação faltando enquanto outras chegam a ter 72% de valores não informados. Em geral as colunas mais problemáticas são relacionadas às quantidades de testes, tendo isso em vista, vamos procurar não trabalhar com os dados acerca dos testes neste notebook.\n",
        "\n",
        "E muitas colunas das quais podemos tirar conclusões interessantes possuem um percentual baixo de desinformação."
      ]
    },
    {
      "cell_type": "markdown",
      "metadata": {
        "id": "aVHogW93TnY7",
        "colab_type": "text"
      },
      "source": [
        "## Visualização de dados"
      ]
    },
    {
      "cell_type": "markdown",
      "metadata": {
        "id": "6-iMj2JWT3Je",
        "colab_type": "text"
      },
      "source": [
        "Neste momento, iremos focar na visualização de diferentes aspectos consequentes da doença.\n",
        "\n",
        "Começaremos com os dados relacionados ao número de mortes por CoViD-19."
      ]
    },
    {
      "cell_type": "markdown",
      "metadata": {
        "id": "su-0nXSUYMQy",
        "colab_type": "text"
      },
      "source": [
        "Primeiramente, vejamos os 6 países com maior número de mortes pela doença:"
      ]
    },
    {
      "cell_type": "code",
      "metadata": {
        "id": "RpuJNWuhYCVX",
        "colab_type": "code",
        "colab": {
          "base_uri": "https://localhost:8080/",
          "height": 204
        },
        "outputId": "f509cbd7-4ffc-4e9c-c2a9-1d64c2e842a6"
      },
      "source": [
        "df.loc[df.date == '2020-07-03',['location','total_deaths']].sort_values(by=\"total_deaths\", ascending=False).head()"
      ],
      "execution_count": null,
      "outputs": [
        {
          "output_type": "execute_result",
          "data": {
            "text/html": [
              "<div>\n",
              "<style scoped>\n",
              "    .dataframe tbody tr th:only-of-type {\n",
              "        vertical-align: middle;\n",
              "    }\n",
              "\n",
              "    .dataframe tbody tr th {\n",
              "        vertical-align: top;\n",
              "    }\n",
              "\n",
              "    .dataframe thead th {\n",
              "        text-align: right;\n",
              "    }\n",
              "</style>\n",
              "<table border=\"1\" class=\"dataframe\">\n",
              "  <thead>\n",
              "    <tr style=\"text-align: right;\">\n",
              "      <th></th>\n",
              "      <th>location</th>\n",
              "      <th>total_deaths</th>\n",
              "    </tr>\n",
              "  </thead>\n",
              "  <tbody>\n",
              "    <tr>\n",
              "      <th>28176</th>\n",
              "      <td>World</td>\n",
              "      <td>521115.0</td>\n",
              "    </tr>\n",
              "    <tr>\n",
              "      <th>26873</th>\n",
              "      <td>United States</td>\n",
              "      <td>128740.0</td>\n",
              "    </tr>\n",
              "    <tr>\n",
              "      <th>3822</th>\n",
              "      <td>Brazil</td>\n",
              "      <td>61884.0</td>\n",
              "    </tr>\n",
              "    <tr>\n",
              "      <th>26685</th>\n",
              "      <td>United Kingdom</td>\n",
              "      <td>43995.0</td>\n",
              "    </tr>\n",
              "    <tr>\n",
              "      <th>13168</th>\n",
              "      <td>Italy</td>\n",
              "      <td>34818.0</td>\n",
              "    </tr>\n",
              "  </tbody>\n",
              "</table>\n",
              "</div>"
            ],
            "text/plain": [
              "             location  total_deaths\n",
              "28176           World      521115.0\n",
              "26873   United States      128740.0\n",
              "3822           Brazil       61884.0\n",
              "26685  United Kingdom       43995.0\n",
              "13168           Italy       34818.0"
            ]
          },
          "metadata": {
            "tags": []
          },
          "execution_count": 8
        }
      ]
    },
    {
      "cell_type": "markdown",
      "metadata": {
        "id": "MQJvau4KZCOM",
        "colab_type": "text"
      },
      "source": [
        "No dataset adquirido há uma uma linha com a localização 'World' que nada mais é que o total mundial na data reportada, como estamos analisando os países, linhas com essa localização não serão usadas por enquanto."
      ]
    },
    {
      "cell_type": "code",
      "metadata": {
        "id": "9LLm2CDhUpgq",
        "colab_type": "code",
        "colab": {
          "base_uri": "https://localhost:8080/",
          "height": 235
        },
        "outputId": "d4b9a5da-217f-4618-95a4-a4f152522e1b"
      },
      "source": [
        "df.loc[df.date == '2020-07-03',['location','total_deaths']].sort_values(by=\"total_deaths\", ascending=False).head(7)[1:7]"
      ],
      "execution_count": null,
      "outputs": [
        {
          "output_type": "execute_result",
          "data": {
            "text/html": [
              "<div>\n",
              "<style scoped>\n",
              "    .dataframe tbody tr th:only-of-type {\n",
              "        vertical-align: middle;\n",
              "    }\n",
              "\n",
              "    .dataframe tbody tr th {\n",
              "        vertical-align: top;\n",
              "    }\n",
              "\n",
              "    .dataframe thead th {\n",
              "        text-align: right;\n",
              "    }\n",
              "</style>\n",
              "<table border=\"1\" class=\"dataframe\">\n",
              "  <thead>\n",
              "    <tr style=\"text-align: right;\">\n",
              "      <th></th>\n",
              "      <th>location</th>\n",
              "      <th>total_deaths</th>\n",
              "    </tr>\n",
              "  </thead>\n",
              "  <tbody>\n",
              "    <tr>\n",
              "      <th>26873</th>\n",
              "      <td>United States</td>\n",
              "      <td>128740.0</td>\n",
              "    </tr>\n",
              "    <tr>\n",
              "      <th>3822</th>\n",
              "      <td>Brazil</td>\n",
              "      <td>61884.0</td>\n",
              "    </tr>\n",
              "    <tr>\n",
              "      <th>26685</th>\n",
              "      <td>United Kingdom</td>\n",
              "      <td>43995.0</td>\n",
              "    </tr>\n",
              "    <tr>\n",
              "      <th>13168</th>\n",
              "      <td>Italy</td>\n",
              "      <td>34818.0</td>\n",
              "    </tr>\n",
              "    <tr>\n",
              "      <th>9231</th>\n",
              "      <td>France</td>\n",
              "      <td>29875.0</td>\n",
              "    </tr>\n",
              "    <tr>\n",
              "      <th>16824</th>\n",
              "      <td>Mexico</td>\n",
              "      <td>29189.0</td>\n",
              "    </tr>\n",
              "  </tbody>\n",
              "</table>\n",
              "</div>"
            ],
            "text/plain": [
              "             location  total_deaths\n",
              "26873   United States      128740.0\n",
              "3822           Brazil       61884.0\n",
              "26685  United Kingdom       43995.0\n",
              "13168           Italy       34818.0\n",
              "9231           France       29875.0\n",
              "16824          Mexico       29189.0"
            ]
          },
          "metadata": {
            "tags": []
          },
          "execution_count": 9
        }
      ]
    },
    {
      "cell_type": "markdown",
      "metadata": {
        "id": "gYiiNJBQZ2q1",
        "colab_type": "text"
      },
      "source": [
        "Os Estados Unidos possuem mais que o dobro do número de mortes do segundo país com mais fatalidades por CoViD , no caso o Brasil. Vamos criar um gráfico de barras para esses países para uma comparação mais visual."
      ]
    },
    {
      "cell_type": "code",
      "metadata": {
        "id": "3ZN1dWbRUpea",
        "colab_type": "code",
        "colab": {
          "base_uri": "https://localhost:8080/",
          "height": 337
        },
        "outputId": "5636515a-a897-41fb-86b1-a6f1aa42ea22"
      },
      "source": [
        "sns.set()\n",
        "fig , ax = plt.subplots()\n",
        "df.loc[df.date=='2020-07-03'].sort_values(by='total_deaths',ascending=False)[1:7].plot(x='location',y='total_deaths',ax=ax,kind='bar')\n",
        "ax.set_title('Total de mortes por covid-19')\n",
        "ax.set_xlabel('País')\n",
        "ax.set_ylabel('Número de mortos')\n",
        "plt.xticks(rotation=25)\n",
        "plt.show()"
      ],
      "execution_count": null,
      "outputs": [
        {
          "output_type": "display_data",
          "data": {
            "image/png": "[encoded data removed]",
            "text/plain": [
              "<Figure size 432x288 with 1 Axes>"
            ]
          },
          "metadata": {
            "tags": []
          }
        }
      ]
    },
    {
      "cell_type": "markdown",
      "metadata": {
        "id": "YkyrOUt3msVr",
        "colab_type": "text"
      },
      "source": [
        "Como os EUA se mostrou muito pior em relação aos outros 5 países listados, vamos analisar como o número total de mortes deste está em relação ao número total de mortos ao redor do mundo."
      ]
    },
    {
      "cell_type": "code",
      "metadata": {
        "id": "Kk5wBjDKocQh",
        "colab_type": "code",
        "colab": {
          "base_uri": "https://localhost:8080/",
          "height": 111
        },
        "outputId": "0c9b8a41-da62-473e-ea21-d58193357db7"
      },
      "source": [
        "df.loc[df.date == '2020-07-03'][['location','total_deaths']].sort_values(by='total_deaths',ascending=False)[0:2]"
      ],
      "execution_count": null,
      "outputs": [
        {
          "output_type": "execute_result",
          "data": {
            "text/html": [
              "<div>\n",
              "<style scoped>\n",
              "    .dataframe tbody tr th:only-of-type {\n",
              "        vertical-align: middle;\n",
              "    }\n",
              "\n",
              "    .dataframe tbody tr th {\n",
              "        vertical-align: top;\n",
              "    }\n",
              "\n",
              "    .dataframe thead th {\n",
              "        text-align: right;\n",
              "    }\n",
              "</style>\n",
              "<table border=\"1\" class=\"dataframe\">\n",
              "  <thead>\n",
              "    <tr style=\"text-align: right;\">\n",
              "      <th></th>\n",
              "      <th>location</th>\n",
              "      <th>total_deaths</th>\n",
              "    </tr>\n",
              "  </thead>\n",
              "  <tbody>\n",
              "    <tr>\n",
              "      <th>28176</th>\n",
              "      <td>World</td>\n",
              "      <td>521115.0</td>\n",
              "    </tr>\n",
              "    <tr>\n",
              "      <th>26873</th>\n",
              "      <td>United States</td>\n",
              "      <td>128740.0</td>\n",
              "    </tr>\n",
              "  </tbody>\n",
              "</table>\n",
              "</div>"
            ],
            "text/plain": [
              "            location  total_deaths\n",
              "28176          World      521115.0\n",
              "26873  United States      128740.0"
            ]
          },
          "metadata": {
            "tags": []
          },
          "execution_count": 11
        }
      ]
    },
    {
      "cell_type": "markdown",
      "metadata": {
        "id": "LDHI81V9qqUY",
        "colab_type": "text"
      },
      "source": [
        "Utilizando os índices acima, temos:"
      ]
    },
    {
      "cell_type": "code",
      "metadata": {
        "id": "UJ-QK7oRpxsS",
        "colab_type": "code",
        "colab": {
          "base_uri": "https://localhost:8080/",
          "height": 34
        },
        "outputId": "e9f6e8dc-5984-4b5b-d5eb-0b8532c5fa05"
      },
      "source": [
        "(df.iloc[26873]['total_deaths'] / df.iloc[28176]['total_deaths']).round(3)"
      ],
      "execution_count": null,
      "outputs": [
        {
          "output_type": "execute_result",
          "data": {
            "text/plain": [
              "0.247"
            ]
          },
          "metadata": {
            "tags": []
          },
          "execution_count": 12
        }
      ]
    },
    {
      "cell_type": "code",
      "metadata": {
        "id": "8JdV_8zBrlxo",
        "colab_type": "code",
        "colab": {
          "base_uri": "https://localhost:8080/",
          "height": 34
        },
        "outputId": "5bdcccf7-3b35-4a98-c7c1-847331073bc6"
      },
      "source": [
        "(df.iloc[26873]['population'] / df.iloc[28176]['population']).round(3)"
      ],
      "execution_count": null,
      "outputs": [
        {
          "output_type": "execute_result",
          "data": {
            "text/plain": [
              "0.042"
            ]
          },
          "metadata": {
            "tags": []
          },
          "execution_count": 13
        }
      ]
    },
    {
      "cell_type": "markdown",
      "metadata": {
        "id": "6aamIjZvJ2ef",
        "colab_type": "text"
      },
      "source": [
        "Ou seja, o país dos ianques teve quase 25 por cento das mortes globais pelo vírus mesmo que a razão entre a população americana e a global seja de apenas 4,2 por cento. Por mais que o dado seja absurdo, existem diversas teorias acerca desse acontecimento, como a tomada de decisões questionáveis para lidar com a pandemia por parte do governo federal americano e a aplicação tardia do isolamento social como meio de prevenção da disseminação da doença no país."
      ]
    },
    {
      "cell_type": "markdown",
      "metadata": {
        "id": "jy1TWbW6J2UQ",
        "colab_type": "text"
      },
      "source": [
        "Voltando para os dados acerca de casos confirmados:"
      ]
    },
    {
      "cell_type": "code",
      "metadata": {
        "id": "NmtTLO5dkEDe",
        "colab_type": "code",
        "colab": {
          "base_uri": "https://localhost:8080/",
          "height": 235
        },
        "outputId": "bb8957c4-7981-4e7b-9e96-9aa28bdf0bd1"
      },
      "source": [
        "df.loc[df.date == '2020-07-03',['location','total_cases']].sort_values(by=\"total_cases\", ascending=False).head(7)[1:7]"
      ],
      "execution_count": null,
      "outputs": [
        {
          "output_type": "execute_result",
          "data": {
            "text/html": [
              "<div>\n",
              "<style scoped>\n",
              "    .dataframe tbody tr th:only-of-type {\n",
              "        vertical-align: middle;\n",
              "    }\n",
              "\n",
              "    .dataframe tbody tr th {\n",
              "        vertical-align: top;\n",
              "    }\n",
              "\n",
              "    .dataframe thead th {\n",
              "        text-align: right;\n",
              "    }\n",
              "</style>\n",
              "<table border=\"1\" class=\"dataframe\">\n",
              "  <thead>\n",
              "    <tr style=\"text-align: right;\">\n",
              "      <th></th>\n",
              "      <th>location</th>\n",
              "      <th>total_cases</th>\n",
              "    </tr>\n",
              "  </thead>\n",
              "  <tbody>\n",
              "    <tr>\n",
              "      <th>26873</th>\n",
              "      <td>United States</td>\n",
              "      <td>2739879.0</td>\n",
              "    </tr>\n",
              "    <tr>\n",
              "      <th>3822</th>\n",
              "      <td>Brazil</td>\n",
              "      <td>1496858.0</td>\n",
              "    </tr>\n",
              "    <tr>\n",
              "      <th>21313</th>\n",
              "      <td>Russia</td>\n",
              "      <td>661165.0</td>\n",
              "    </tr>\n",
              "    <tr>\n",
              "      <th>11944</th>\n",
              "      <td>India</td>\n",
              "      <td>625544.0</td>\n",
              "    </tr>\n",
              "    <tr>\n",
              "      <th>20221</th>\n",
              "      <td>Peru</td>\n",
              "      <td>292004.0</td>\n",
              "    </tr>\n",
              "    <tr>\n",
              "      <th>5409</th>\n",
              "      <td>Chile</td>\n",
              "      <td>284541.0</td>\n",
              "    </tr>\n",
              "  </tbody>\n",
              "</table>\n",
              "</div>"
            ],
            "text/plain": [
              "            location  total_cases\n",
              "26873  United States    2739879.0\n",
              "3822          Brazil    1496858.0\n",
              "21313         Russia     661165.0\n",
              "11944          India     625544.0\n",
              "20221           Peru     292004.0\n",
              "5409           Chile     284541.0"
            ]
          },
          "metadata": {
            "tags": []
          },
          "execution_count": 14
        }
      ]
    },
    {
      "cell_type": "code",
      "metadata": {
        "id": "6-y0dGZMkD-n",
        "colab_type": "code",
        "colab": {
          "base_uri": "https://localhost:8080/",
          "height": 332
        },
        "outputId": "7c65abfa-aa7c-4292-88ca-24921f4fbef8"
      },
      "source": [
        "fig , ax = plt.subplots()\n",
        "df.loc[df.date=='2020-07-03'].sort_values(by='total_cases',ascending=False)[1:7].plot(x='location',y='total_cases',ax=ax,kind='bar')\n",
        "ax.set_title('Total de casos confirmados')\n",
        "ax.set_xlabel('País')\n",
        "ax.set_ylabel('Número de casos')\n",
        "plt.xticks(rotation=25)\n",
        "plt.show()"
      ],
      "execution_count": null,
      "outputs": [
        {
          "output_type": "display_data",
          "data": {
            "image/png": "[encoded data removed]",
            "text/plain": [
              "<Figure size 432x288 with 1 Axes>"
            ]
          },
          "metadata": {
            "tags": []
          }
        }
      ]
    },
    {
      "cell_type": "markdown",
      "metadata": {
        "id": "XyFRvtowKOUY",
        "colab_type": "text"
      },
      "source": [
        "Podemos ver que Rússia e Índia que não figuram entre os primeiros no número total de mortos aparecem no número total de casos confirmados . Uma explicação plausível para isto é o problema da subnotificação , em que no Reino Unido por exemplo, temos um número de casos confirmados informado menor do que de fato é, segundo diversas estudos e reportagens como esta disponibilizada pela [CNN]('https://edition.cnn.com/2020/04/07/uk/coronavirus-uk-deaths-intl-gbr/index.html') datado de Abril que demonstra suspeitas sobre o governo do Reino Unido estar reportando números menores para favorecer interesses próprios."
      ]
    },
    {
      "cell_type": "markdown",
      "metadata": {
        "id": "7_XXkhbvv1dO",
        "colab_type": "text"
      },
      "source": [
        "Vamos adicionar uma nova coluna no nosso dataset que será a taxa de mortalidade da doença para determinado data e localização, calculada pela divisão das mortes acumuladas até a data pelo número total de casos.\n",
        "\n",
        "Ou seja:\n",
        "\n",
        "```\n",
        "['mortality_rate'] = ['total_deaths'] / ['total_cases']\n",
        "```\n",
        " Feito isto, vamos ver como os países com maior número de óbitos causados pelo vírus se comportam em relação a taxa de mortalidade mundial do mesmo.\n"
      ]
    },
    {
      "cell_type": "code",
      "metadata": {
        "id": "lrEQQM42vzOe",
        "colab_type": "code",
        "colab": {
          "base_uri": "https://localhost:8080/",
          "height": 204
        },
        "outputId": "91967453-c148-4bf9-b73e-8b7ac57f977f"
      },
      "source": [
        "df['mortality_rate'] = df['total_deaths'] / df['total_cases']\n",
        "df.loc[df.date == '2020-07-03'][['location','total_cases','total_deaths','mortality_rate']].sort_values(by='total_deaths',ascending=False).head()"
      ],
      "execution_count": null,
      "outputs": [
        {
          "output_type": "execute_result",
          "data": {
            "text/html": [
              "<div>\n",
              "<style scoped>\n",
              "    .dataframe tbody tr th:only-of-type {\n",
              "        vertical-align: middle;\n",
              "    }\n",
              "\n",
              "    .dataframe tbody tr th {\n",
              "        vertical-align: top;\n",
              "    }\n",
              "\n",
              "    .dataframe thead th {\n",
              "        text-align: right;\n",
              "    }\n",
              "</style>\n",
              "<table border=\"1\" class=\"dataframe\">\n",
              "  <thead>\n",
              "    <tr style=\"text-align: right;\">\n",
              "      <th></th>\n",
              "      <th>location</th>\n",
              "      <th>total_cases</th>\n",
              "      <th>total_deaths</th>\n",
              "      <th>mortality_rate</th>\n",
              "    </tr>\n",
              "  </thead>\n",
              "  <tbody>\n",
              "    <tr>\n",
              "      <th>28176</th>\n",
              "      <td>World</td>\n",
              "      <td>10844591.0</td>\n",
              "      <td>521115.0</td>\n",
              "      <td>0.048053</td>\n",
              "    </tr>\n",
              "    <tr>\n",
              "      <th>26873</th>\n",
              "      <td>United States</td>\n",
              "      <td>2739879.0</td>\n",
              "      <td>128740.0</td>\n",
              "      <td>0.046987</td>\n",
              "    </tr>\n",
              "    <tr>\n",
              "      <th>3822</th>\n",
              "      <td>Brazil</td>\n",
              "      <td>1496858.0</td>\n",
              "      <td>61884.0</td>\n",
              "      <td>0.041343</td>\n",
              "    </tr>\n",
              "    <tr>\n",
              "      <th>26685</th>\n",
              "      <td>United Kingdom</td>\n",
              "      <td>283757.0</td>\n",
              "      <td>43995.0</td>\n",
              "      <td>0.155045</td>\n",
              "    </tr>\n",
              "    <tr>\n",
              "      <th>13168</th>\n",
              "      <td>Italy</td>\n",
              "      <td>240961.0</td>\n",
              "      <td>34818.0</td>\n",
              "      <td>0.144496</td>\n",
              "    </tr>\n",
              "  </tbody>\n",
              "</table>\n",
              "</div>"
            ],
            "text/plain": [
              "             location  total_cases  total_deaths  mortality_rate\n",
              "28176           World   10844591.0      521115.0        0.048053\n",
              "26873   United States    2739879.0      128740.0        0.046987\n",
              "3822           Brazil    1496858.0       61884.0        0.041343\n",
              "26685  United Kingdom     283757.0       43995.0        0.155045\n",
              "13168           Italy     240961.0       34818.0        0.144496"
            ]
          },
          "metadata": {
            "tags": []
          },
          "execution_count": 16
        }
      ]
    },
    {
      "cell_type": "code",
      "metadata": {
        "id": "XtlApvhY42TC",
        "colab_type": "code",
        "colab": {
          "base_uri": "https://localhost:8080/",
          "height": 204
        },
        "outputId": "f732e754-3815-4295-f61e-5027178b4407"
      },
      "source": [
        "df.loc[df.date == '2020-07-03'][['location','total_cases','total_deaths','mortality_rate']].sort_values(by='total_deaths',ascending=False).head()"
      ],
      "execution_count": null,
      "outputs": [
        {
          "output_type": "execute_result",
          "data": {
            "text/html": [
              "<div>\n",
              "<style scoped>\n",
              "    .dataframe tbody tr th:only-of-type {\n",
              "        vertical-align: middle;\n",
              "    }\n",
              "\n",
              "    .dataframe tbody tr th {\n",
              "        vertical-align: top;\n",
              "    }\n",
              "\n",
              "    .dataframe thead th {\n",
              "        text-align: right;\n",
              "    }\n",
              "</style>\n",
              "<table border=\"1\" class=\"dataframe\">\n",
              "  <thead>\n",
              "    <tr style=\"text-align: right;\">\n",
              "      <th></th>\n",
              "      <th>location</th>\n",
              "      <th>total_cases</th>\n",
              "      <th>total_deaths</th>\n",
              "      <th>mortality_rate</th>\n",
              "    </tr>\n",
              "  </thead>\n",
              "  <tbody>\n",
              "    <tr>\n",
              "      <th>28176</th>\n",
              "      <td>World</td>\n",
              "      <td>10844591.0</td>\n",
              "      <td>521115.0</td>\n",
              "      <td>0.048053</td>\n",
              "    </tr>\n",
              "    <tr>\n",
              "      <th>26873</th>\n",
              "      <td>United States</td>\n",
              "      <td>2739879.0</td>\n",
              "      <td>128740.0</td>\n",
              "      <td>0.046987</td>\n",
              "    </tr>\n",
              "    <tr>\n",
              "      <th>3822</th>\n",
              "      <td>Brazil</td>\n",
              "      <td>1496858.0</td>\n",
              "      <td>61884.0</td>\n",
              "      <td>0.041343</td>\n",
              "    </tr>\n",
              "    <tr>\n",
              "      <th>26685</th>\n",
              "      <td>United Kingdom</td>\n",
              "      <td>283757.0</td>\n",
              "      <td>43995.0</td>\n",
              "      <td>0.155045</td>\n",
              "    </tr>\n",
              "    <tr>\n",
              "      <th>13168</th>\n",
              "      <td>Italy</td>\n",
              "      <td>240961.0</td>\n",
              "      <td>34818.0</td>\n",
              "      <td>0.144496</td>\n",
              "    </tr>\n",
              "  </tbody>\n",
              "</table>\n",
              "</div>"
            ],
            "text/plain": [
              "             location  total_cases  total_deaths  mortality_rate\n",
              "28176           World   10844591.0      521115.0        0.048053\n",
              "26873   United States    2739879.0      128740.0        0.046987\n",
              "3822           Brazil    1496858.0       61884.0        0.041343\n",
              "26685  United Kingdom     283757.0       43995.0        0.155045\n",
              "13168           Italy     240961.0       34818.0        0.144496"
            ]
          },
          "metadata": {
            "tags": []
          },
          "execution_count": 17
        }
      ]
    },
    {
      "cell_type": "markdown",
      "metadata": {
        "id": "oMVHmgNs248x",
        "colab_type": "text"
      },
      "source": [
        "Pela taxa podemos ver no que implica a falta de confiança nos dados passados, o Reino Unido acaba por apresentar taxa de mortalidade maior que inúmeros países subdesenvolvidos e chega a ter a taxa maior que 98% de todos países listados."
      ]
    },
    {
      "cell_type": "markdown",
      "metadata": {
        "id": "u-3pM1KIvyxh",
        "colab_type": "text"
      },
      "source": [
        "Tendo as informações extraídas em mente, agora iremos ver a evolução da doença no mundo inteiro como uma série temporal, deste modo precisamos criar esta para analisá-la."
      ]
    },
    {
      "cell_type": "code",
      "metadata": {
        "id": "x1TE1ItPkD76",
        "colab_type": "code",
        "colab": {
          "base_uri": "https://localhost:8080/",
          "height": 450
        },
        "outputId": "95d21415-14b6-4e93-89fd-b47193011716"
      },
      "source": [
        "world = df.loc[df.location == 'World'][['total_cases','total_deaths','date']].copy()\n",
        "world.set_index('date',drop=True)"
      ],
      "execution_count": null,
      "outputs": [
        {
          "output_type": "execute_result",
          "data": {
            "text/html": [
              "<div>\n",
              "<style scoped>\n",
              "    .dataframe tbody tr th:only-of-type {\n",
              "        vertical-align: middle;\n",
              "    }\n",
              "\n",
              "    .dataframe tbody tr th {\n",
              "        vertical-align: top;\n",
              "    }\n",
              "\n",
              "    .dataframe thead th {\n",
              "        text-align: right;\n",
              "    }\n",
              "</style>\n",
              "<table border=\"1\" class=\"dataframe\">\n",
              "  <thead>\n",
              "    <tr style=\"text-align: right;\">\n",
              "      <th></th>\n",
              "      <th>total_cases</th>\n",
              "      <th>total_deaths</th>\n",
              "    </tr>\n",
              "    <tr>\n",
              "      <th>date</th>\n",
              "      <th></th>\n",
              "      <th></th>\n",
              "    </tr>\n",
              "  </thead>\n",
              "  <tbody>\n",
              "    <tr>\n",
              "      <th>2019-12-31</th>\n",
              "      <td>27.0</td>\n",
              "      <td>0.0</td>\n",
              "    </tr>\n",
              "    <tr>\n",
              "      <th>2020-01-01</th>\n",
              "      <td>27.0</td>\n",
              "      <td>0.0</td>\n",
              "    </tr>\n",
              "    <tr>\n",
              "      <th>2020-01-02</th>\n",
              "      <td>27.0</td>\n",
              "      <td>0.0</td>\n",
              "    </tr>\n",
              "    <tr>\n",
              "      <th>2020-01-03</th>\n",
              "      <td>44.0</td>\n",
              "      <td>0.0</td>\n",
              "    </tr>\n",
              "    <tr>\n",
              "      <th>2020-01-04</th>\n",
              "      <td>44.0</td>\n",
              "      <td>0.0</td>\n",
              "    </tr>\n",
              "    <tr>\n",
              "      <th>...</th>\n",
              "      <td>...</td>\n",
              "      <td>...</td>\n",
              "    </tr>\n",
              "    <tr>\n",
              "      <th>2020-07-01</th>\n",
              "      <td>10465987.0</td>\n",
              "      <td>511041.0</td>\n",
              "    </tr>\n",
              "    <tr>\n",
              "      <th>2020-07-02</th>\n",
              "      <td>10666202.0</td>\n",
              "      <td>515972.0</td>\n",
              "    </tr>\n",
              "    <tr>\n",
              "      <th>2020-07-03</th>\n",
              "      <td>10844591.0</td>\n",
              "      <td>521115.0</td>\n",
              "    </tr>\n",
              "    <tr>\n",
              "      <th>2020-07-04</th>\n",
              "      <td>11052050.0</td>\n",
              "      <td>526239.0</td>\n",
              "    </tr>\n",
              "    <tr>\n",
              "      <th>2020-07-05</th>\n",
              "      <td>11241655.0</td>\n",
              "      <td>530668.0</td>\n",
              "    </tr>\n",
              "  </tbody>\n",
              "</table>\n",
              "<p>188 rows × 2 columns</p>\n",
              "</div>"
            ],
            "text/plain": [
              "            total_cases  total_deaths\n",
              "date                                 \n",
              "2019-12-31         27.0           0.0\n",
              "2020-01-01         27.0           0.0\n",
              "2020-01-02         27.0           0.0\n",
              "2020-01-03         44.0           0.0\n",
              "2020-01-04         44.0           0.0\n",
              "...                 ...           ...\n",
              "2020-07-01   10465987.0      511041.0\n",
              "2020-07-02   10666202.0      515972.0\n",
              "2020-07-03   10844591.0      521115.0\n",
              "2020-07-04   11052050.0      526239.0\n",
              "2020-07-05   11241655.0      530668.0\n",
              "\n",
              "[188 rows x 2 columns]"
            ]
          },
          "metadata": {
            "tags": []
          },
          "execution_count": 18
        }
      ]
    },
    {
      "cell_type": "markdown",
      "metadata": {
        "id": "NACLLTqB7m8i",
        "colab_type": "text"
      },
      "source": [
        "Plotando gráficos de linhas para ver o crescimento da doença desde a data inicial até o dia 03 de Julho onde nossos dados foram coletado:"
      ]
    },
    {
      "cell_type": "code",
      "metadata": {
        "id": "11MdqQF1kDtB",
        "colab_type": "code",
        "colab": {
          "base_uri": "https://localhost:8080/",
          "height": 899
        },
        "outputId": "1bb6965e-ea3c-4ad1-90f1-e4a7db1f0270"
      },
      "source": [
        "fig , ax = plt.subplots(nrows=2,ncols=1,figsize=(15,15))\n",
        "ax[0].plot(world.date,world.total_deaths)\n",
        "ax[1].plot(world.date,world.total_cases)\n",
        "ax[0].set_title('Mortes por CoViD-19')\n",
        "ax[1].set_title('Casos CoViD-19')\n",
        "ax[0].set_xlabel('Data')\n",
        "ax[1].set_xlabel('Data')\n",
        "ax[0].set_ylabel('Número de mortos')\n",
        "ax[1].set_ylabel('Número de casos')\n",
        "plt.show()"
      ],
      "execution_count": null,
      "outputs": [
        {
          "output_type": "display_data",
          "data": {
            "image/png": "[encoded data removed]",
            "text/plain": [
              "<Figure size 1080x1080 with 2 Axes>"
            ]
          },
          "metadata": {
            "tags": []
          }
        }
      ]
    },
    {
      "cell_type": "markdown",
      "metadata": {
        "id": "5LgSazX4_xJ6",
        "colab_type": "text"
      },
      "source": [
        "Graficamente, podemos observar que a doença atingiu o marco de 100 mil óbitos na primeira semana de Abril e apenas um mês após já havia triplicado esse valor o que ressalta o poder de disseminação do vírus mesmo com a quarentena que já estava implementada em inúmeras localidades."
      ]
    },
    {
      "cell_type": "markdown",
      "metadata": {
        "id": "mk6fF4MeAinB",
        "colab_type": "text"
      },
      "source": [
        "E o total de casos segue o mesmo modelo, que se assemelha uma exponencial, que em menos de 1 mês o número de resultados positivos para o teste foi de 5 milhões para mais de 10 milhões."
      ]
    },
    {
      "cell_type": "markdown",
      "metadata": {
        "id": "SViA5VZ7DYLA",
        "colab_type": "text"
      },
      "source": [
        "### Análise Exploratória para o Brasil\n"
      ]
    },
    {
      "cell_type": "markdown",
      "metadata": {
        "id": "ULazc8WCF2t8",
        "colab_type": "text"
      },
      "source": [
        "Agora iremos focar nossa análise apenas para o Brasil e verificar como foi a evolução da doença em alguns aspectos."
      ]
    },
    {
      "cell_type": "code",
      "metadata": {
        "id": "YpLXtAs4GaGU",
        "colab_type": "code",
        "colab": {}
      },
      "source": [
        "#Criando um novo dataframe que constam apenas os dados do país\n",
        "brasil = df.loc[df.location == 'Brazil'][['total_cases','total_deaths','date']].copy()\n",
        "brasil.set_index('date',inplace=True,drop=True)"
      ],
      "execution_count": null,
      "outputs": []
    },
    {
      "cell_type": "markdown",
      "metadata": {
        "id": "e-ncLCvPD24g",
        "colab_type": "text"
      },
      "source": [
        "Verifiquemos quando ocorreu o primeiro óbito por covid notificado em nosso país e o primeiro caso confirmado do vírus."
      ]
    },
    {
      "cell_type": "code",
      "metadata": {
        "id": "UDQA502_hAwI",
        "colab_type": "code",
        "colab": {
          "base_uri": "https://localhost:8080/",
          "height": 173
        },
        "outputId": "41342f02-1bfd-4b28-ac05-5745aa35c6d3"
      },
      "source": [
        "brasil.loc[brasil['total_deaths']>0].head(3)"
      ],
      "execution_count": null,
      "outputs": [
        {
          "output_type": "execute_result",
          "data": {
            "text/html": [
              "<div>\n",
              "<style scoped>\n",
              "    .dataframe tbody tr th:only-of-type {\n",
              "        vertical-align: middle;\n",
              "    }\n",
              "\n",
              "    .dataframe tbody tr th {\n",
              "        vertical-align: top;\n",
              "    }\n",
              "\n",
              "    .dataframe thead th {\n",
              "        text-align: right;\n",
              "    }\n",
              "</style>\n",
              "<table border=\"1\" class=\"dataframe\">\n",
              "  <thead>\n",
              "    <tr style=\"text-align: right;\">\n",
              "      <th></th>\n",
              "      <th>total_cases</th>\n",
              "      <th>total_deaths</th>\n",
              "    </tr>\n",
              "    <tr>\n",
              "      <th>date</th>\n",
              "      <th></th>\n",
              "      <th></th>\n",
              "    </tr>\n",
              "  </thead>\n",
              "  <tbody>\n",
              "    <tr>\n",
              "      <th>2020-03-18</th>\n",
              "      <td>291.0</td>\n",
              "      <td>1.0</td>\n",
              "    </tr>\n",
              "    <tr>\n",
              "      <th>2020-03-19</th>\n",
              "      <td>428.0</td>\n",
              "      <td>4.0</td>\n",
              "    </tr>\n",
              "    <tr>\n",
              "      <th>2020-03-20</th>\n",
              "      <td>621.0</td>\n",
              "      <td>6.0</td>\n",
              "    </tr>\n",
              "  </tbody>\n",
              "</table>\n",
              "</div>"
            ],
            "text/plain": [
              "            total_cases  total_deaths\n",
              "date                                 \n",
              "2020-03-18        291.0           1.0\n",
              "2020-03-19        428.0           4.0\n",
              "2020-03-20        621.0           6.0"
            ]
          },
          "metadata": {
            "tags": []
          },
          "execution_count": 21
        }
      ]
    },
    {
      "cell_type": "code",
      "metadata": {
        "id": "dwGkk3y-Em0x",
        "colab_type": "code",
        "colab": {
          "base_uri": "https://localhost:8080/",
          "height": 173
        },
        "outputId": "d9c084b7-e81d-40a8-9eb4-7c6031dd7078"
      },
      "source": [
        "brasil.loc[brasil['total_cases']>0].head(3)"
      ],
      "execution_count": null,
      "outputs": [
        {
          "output_type": "execute_result",
          "data": {
            "text/html": [
              "<div>\n",
              "<style scoped>\n",
              "    .dataframe tbody tr th:only-of-type {\n",
              "        vertical-align: middle;\n",
              "    }\n",
              "\n",
              "    .dataframe tbody tr th {\n",
              "        vertical-align: top;\n",
              "    }\n",
              "\n",
              "    .dataframe thead th {\n",
              "        text-align: right;\n",
              "    }\n",
              "</style>\n",
              "<table border=\"1\" class=\"dataframe\">\n",
              "  <thead>\n",
              "    <tr style=\"text-align: right;\">\n",
              "      <th></th>\n",
              "      <th>total_cases</th>\n",
              "      <th>total_deaths</th>\n",
              "    </tr>\n",
              "    <tr>\n",
              "      <th>date</th>\n",
              "      <th></th>\n",
              "      <th></th>\n",
              "    </tr>\n",
              "  </thead>\n",
              "  <tbody>\n",
              "    <tr>\n",
              "      <th>2020-02-26</th>\n",
              "      <td>1.0</td>\n",
              "      <td>0.0</td>\n",
              "    </tr>\n",
              "    <tr>\n",
              "      <th>2020-02-27</th>\n",
              "      <td>1.0</td>\n",
              "      <td>0.0</td>\n",
              "    </tr>\n",
              "    <tr>\n",
              "      <th>2020-02-28</th>\n",
              "      <td>1.0</td>\n",
              "      <td>0.0</td>\n",
              "    </tr>\n",
              "  </tbody>\n",
              "</table>\n",
              "</div>"
            ],
            "text/plain": [
              "            total_cases  total_deaths\n",
              "date                                 \n",
              "2020-02-26          1.0           0.0\n",
              "2020-02-27          1.0           0.0\n",
              "2020-02-28          1.0           0.0"
            ]
          },
          "metadata": {
            "tags": []
          },
          "execution_count": 22
        }
      ]
    },
    {
      "cell_type": "markdown",
      "metadata": {
        "id": "lNifvqiGFAsh",
        "colab_type": "text"
      },
      "source": [
        "Temos que no dia 26 de Fevereiro foi notificado o primeiro caso da doença em terras brasileiras e no dia 18 de Março ocorreu o primeiro óbito causado pelo vírus e nesse mesmo dia já existiam 291 casos confirmados no país."
      ]
    },
    {
      "cell_type": "markdown",
      "metadata": {
        "id": "7f9ZR_A0FuqC",
        "colab_type": "text"
      },
      "source": [
        "Vamos checar como o vírus que tirou a vida de mais de 60 mil brasileiros se dispersou desde o primeiro caso até o começo de Julho do mesmo ano."
      ]
    },
    {
      "cell_type": "code",
      "metadata": {
        "id": "iRWQ5yjwFuBh",
        "colab_type": "code",
        "colab": {
          "base_uri": "https://localhost:8080/",
          "height": 639
        },
        "outputId": "b4523f76-503e-4994-82a2-b1e45983cf2b"
      },
      "source": [
        "fig , ax = plt.subplots(nrows=1, ncols=2, figsize=(24,10))\n",
        "brasil['2020-02-26':].plot(ax=ax[0],y='total_deaths',title= 'Total de mortes')\n",
        "brasil['2020-02-26':].plot(ax=ax[1],y='total_deaths',loglog=True,title='Escala log')\n",
        "ax[0].set_ylabel('Número de óbitos')\n",
        "plt.show()"
      ],
      "execution_count": null,
      "outputs": [
        {
          "output_type": "display_data",
          "data": {
            "image/png": "[encoded data removed]",
            "text/plain": [
              "<Figure size 1728x720 with 2 Axes>"
            ]
          },
          "metadata": {
            "tags": []
          }
        }
      ]
    },
    {
      "cell_type": "markdown",
      "metadata": {
        "id": "iFHViFl1M27n",
        "colab_type": "text"
      },
      "source": [
        "Pelo gráfico em escala logarítimica vemos que a curva de mortes só começa a se achatar perto da marca de 1 milhão de óbitos porém não podemos concluir se essa curva de fato se aproximará de algo linear, ou seja, que o número de mortos não aumentará de maneira significante .\n"
      ]
    },
    {
      "cell_type": "code",
      "metadata": {
        "id": "AIiY7_YxM30v",
        "colab_type": "code",
        "colab": {
          "base_uri": "https://localhost:8080/",
          "height": 639
        },
        "outputId": "7e88d3d0-cef8-4806-8b07-490a48e58394"
      },
      "source": [
        "fig , ax = plt.subplots(nrows=1, ncols=2, figsize=(24,10))\n",
        "brasil['2020-02-26':].plot(ax=ax[0],y='total_cases',title= 'Casos confirmados')\n",
        "brasil['2020-02-26':].plot(ax=ax[1],y='total_cases',loglog=True,title='Casos confirmados (escala log)')\n",
        "ax[0].set_ylabel('Número de casos')\n",
        "plt.show()"
      ],
      "execution_count": null,
      "outputs": [
        {
          "output_type": "display_data",
          "data": {
            "image/png": "[encoded data removed]",
            "text/plain": [
              "<Figure size 1728x720 with 2 Axes>"
            ]
          },
          "metadata": {
            "tags": []
          }
        }
      ]
    },
    {
      "cell_type": "markdown",
      "metadata": {
        "id": "LCsiXvM3BcsO",
        "colab_type": "text"
      },
      "source": [
        "## Conclusão\n",
        "\n",
        "Inicialmente vale lembrar que os dados utilizados no projeto foram coletados no dia 03/07/2020 e como são coletados diariamente na maior parte dos países , em um futuo próximo a publicação do notebook este eestará desatualizado de certa forma.\n",
        "\n",
        "Conseguimos retirar informações intrínsecas do nosso banco de dados , algumas destas são:\n",
        "* Por mais que a Rússia não figure entre os países com dezenas de milhares de mortes , esta ainda é o terceiro país com mais infectados com cerca de 600 mil casos positivos.\n",
        "* Mesmo os Estados Unidos sendo, de forma isolada, o país mais afetado pelo CoViD-19 os EUA ainda possui uma taxa de mortalidade da doença menor que países como Itália e Reino Unido.\n",
        "* O crescimento da doença ainda está gigantesco de forma que não podemos ter ideia de quando se estabilizará.\n",
        "* O Brasil está se aproximando da marca de 2 milhões de infectados e pelo gráfico de crescimento, é altamente provável que chegue a este.\n",
        "\n",
        "Através de uma análise básica conseguimos extrair informações preciosas e que não são comumente transmitidas na mídia por mais que essa seja apenas uma análise exploratória inicial. Ainda existem inúmeras relações possíveis de serem exploradas neste dataset porém limitamo-nos a uma abordagem simples para conseguir um conhecimento geral da ação do vírus ao redor do mundo. \n"
      ]
    }
  ]
}