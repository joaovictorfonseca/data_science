{
  "nbformat": 4,
  "nbformat_minor": 0,
  "metadata": {
    "colab": {
      "name": "Analisando a Violência no Rio de Janeiro.ipynb",
      "provenance": [],
      "collapsed_sections": [],
      "toc_visible": true,
      "include_colab_link": true
    },
    "kernelspec": {
      "name": "python3",
      "display_name": "Python 3"
    }
  },
  "cells": [
    {
      "cell_type": "markdown",
      "metadata": {
        "id": "view-in-github",
        "colab_type": "text"
      },
      "source": [
        "<a href=\"https://colab.research.google.com/github/joaovictorfonseca/data_science/blob/master/Analisando_a_Viol%C3%AAncia_no_Rio_de_Janeiro.ipynb\" target=\"_parent\"><img src=\"https://colab.research.google.com/assets/colab-badge.svg\" alt=\"Open In Colab\"/></a>"
      ]
    },
    {
      "cell_type": "markdown",
      "metadata": {
        "id": "-eFQZydM9O9J",
        "colab_type": "text"
      },
      "source": [
        "#### **Projeto de Data Science**\n",
        "*by [João Victor Fonseca](https://github.com/joaovictorfonseca/data_science)*\n",
        "\n",
        "  "
      ]
    },
    {
      "cell_type": "markdown",
      "metadata": {
        "id": "kLI0gJtzDGuQ",
        "colab_type": "text"
      },
      "source": [
        "# Analisando a Violência no Rio de Janeiro\n",
        "\n",
        "É comum ao se abrir um jornal ou ao acessar um site de notícias nos depararmos com inúmeras matérias sobre casos de violência, principalmente em lugares como a cidade do Rio que, em alguns anos, possui taxas de homicídio maiores que de países europeus inteiros.\n",
        "Neste notebook iremos discorrer sobre a violência no decorrer dos anos e através dos dados achar padrões e resumos estatísticos para criar hipóteses plausíveis para o cenário carioca de crimes. "
      ]
    },
    {
      "cell_type": "markdown",
      "metadata": {
        "id": "0zxQHhIUDF_2",
        "colab_type": "text"
      },
      "source": [
        "## Obtenção dos Dados\n",
        "\n",
        "Os dados foram obtidos no portal de dados abertos do [Instituto de Segurança Pública](http://www.ispdados.rj.gov.br/estatistica.html) e engloba as ocorrências registradas entre Janeiro de 1991 e Agosto de 2019, então teremos 29 anos de dados sobre a criminalidade para nossa análise. \n",
        "É possível que os dados mais antigos possuam ausência de valores pela tardia computadorização do setor no Brasil porém podemos levar em consideração para conferir nossas análises.\n",
        "\n",
        "Como as notícias não tem sido boas para o estado da Cidade Maravilhosa nos últimos anos esperamos que nossos gráficos mostrem tendências de aumento ao passar dos anos."
      ]
    },
    {
      "cell_type": "markdown",
      "metadata": {
        "id": "FcS6AehfY4kJ",
        "colab_type": "text"
      },
      "source": [
        "Para comparações posteriores utilizaremos a taxa de homicídios (a cada 100mil habitantes) para o Rio de Janeiro e para o Brasil entre os anos de 1991 e 2017, fornecidos pelo [IPEA](https://www.ipea.gov.br/atlasviolencia/dados-series/20) para uma análise gráfica simples acerca do comportamento ao longo dos anos entre o Rio e o país inteiro. Os dados utilizados estão disponíveis no [meu repositório](https://github.com/joaovictorfonseca/data_science)."
      ]
    },
    {
      "cell_type": "markdown",
      "metadata": {
        "id": "7vh4at0l90nr",
        "colab_type": "text"
      },
      "source": [
        "### Importando os dados\n",
        "\n",
        "Vamos importar as bibliotecas que serão fundamentais para nossa análise e utilizar o Pandas para tanto importar como trabalhar com o nosso banco de dados."
      ]
    },
    {
      "cell_type": "code",
      "metadata": {
        "id": "CYLNme_OCX_R",
        "colab_type": "code",
        "colab": {}
      },
      "source": [
        "import pandas as pd\n",
        "import matplotlib.pyplot as plt\n",
        "import numpy as np\n",
        "import seaborn as sns\n",
        "sns.set()"
      ],
      "execution_count": null,
      "outputs": []
    },
    {
      "cell_type": "code",
      "metadata": {
        "id": "eefaqDhHl-cf",
        "colab_type": "code",
        "colab": {}
      },
      "source": [
        "df= pd.read_csv('https://raw.githubusercontent.com/carlosfab/dsnp2/master/datasets/violencia_rio.csv')\n",
        "uf_homicidios = pd.read_csv('https://raw.githubusercontent.com/joaovictorfonseca/data_science/master/taxa_homicidios_estados.csv',sep=';')\n",
        "br_homicidios = pd.read_csv('https://raw.githubusercontent.com/joaovictorfonseca/data_science/master/taxa_homicidios_br.csv',sep=';')"
      ],
      "execution_count": 2,
      "outputs": []
    },
    {
      "cell_type": "markdown",
      "metadata": {
        "id": "qb5By2nIMS6m",
        "colab_type": "text"
      },
      "source": [
        "## Análise Inicial dos Dados\n",
        "\n",
        "Para começar vamos analisar aspectos básicos do nosso data set como formato, colunas, número de linhas , primeiras entradas e se existem valores faltantes e sua porcentagem em relação ao número de dados da coluna.\n",
        "\n",
        "Descreva e execute as seguintes etapas:\n",
        "\n",
        "* Qual o tamanho do seu DataFrame (`shape`)\n",
        "* Extrair e imprimir os nomes das colunas (`columns`)\n",
        "* Quais os tipos das variáveis (`dtypes`)\n",
        "* Visualizar as 5 primeiras linhas (`head`)\n",
        "* Identifique a porcentagem de valores ausentes das colunas\n"
      ]
    },
    {
      "cell_type": "code",
      "metadata": {
        "id": "gYVWAlrMmcHW",
        "colab_type": "code",
        "colab": {
          "base_uri": "https://localhost:8080/",
          "height": 51
        },
        "outputId": "d7a1856e-4560-4768-b00a-c5cad8e46e69"
      },
      "source": [
        "print(\"Linhas:{}\".format(df.shape[0]))\n",
        "print(\"Colunas:{}\".format(df.shape[1]))"
      ],
      "execution_count": 3,
      "outputs": [
        {
          "output_type": "stream",
          "text": [
            "Linhas:344\n",
            "Colunas:56\n"
          ],
          "name": "stdout"
        }
      ]
    },
    {
      "cell_type": "markdown",
      "metadata": {
        "id": "QnyvrF1LV46o",
        "colab_type": "text"
      },
      "source": [
        "Verificando o formato do nosso dataset temos que possui 344 linhas, equivalente aos meses entre 01/1991 e 08/2019 e 56 colunas que definem os tipos de violência declarados em boletins de ocorrência da Polícia Militar do Estado do Rio de Janeiro."
      ]
    },
    {
      "cell_type": "markdown",
      "metadata": {
        "id": "OzxHJzP5Wfry",
        "colab_type": "text"
      },
      "source": [
        "As colunas do nosso banco de dados estão expostas na célula abaixo, como existem algumas colunas muito específicas, como 'sequestro_relampago' e 'extorsao' , tentaremos focar nossa análise em aspectos mais gerais e que seguem de forma mais coerente nossos indicadores de violência.\n"
      ]
    },
    {
      "cell_type": "markdown",
      "metadata": {
        "id": "e06xx3Tjc0eR",
        "colab_type": "text"
      },
      "source": [
        "O número de casos relatados de violência pode se reduzir a metade de um ano para o outro porém o número de sequestros relâmpago pode triplicar entre esses anos pois sua taxa de ocorrência é quase irrisória em relação ao total.\n"
      ]
    },
    {
      "cell_type": "code",
      "metadata": {
        "id": "96qbXAommcEz",
        "colab_type": "code",
        "colab": {
          "base_uri": "https://localhost:8080/",
          "height": 306
        },
        "outputId": "3a8cc853-09a5-492b-8959-40ea3f0a0fac"
      },
      "source": [
        "df.columns"
      ],
      "execution_count": 4,
      "outputs": [
        {
          "output_type": "execute_result",
          "data": {
            "text/plain": [
              "Index(['vano', 'mes', 'hom_doloso', 'lesao_corp_morte', 'latrocinio',\n",
              "       'hom_por_interv_policial', 'tentat_hom', 'lesao_corp_dolosa', 'estupro',\n",
              "       'hom_culposo', 'lesao_corp_culposa', 'roubo_comercio',\n",
              "       'roubo_residencia', 'roubo_veiculo', 'roubo_carga', 'roubo_transeunte',\n",
              "       'roubo_em_coletivo', 'roubo_banco', 'roubo_cx_eletronico',\n",
              "       'roubo_celular', 'roubo_conducao_saque', 'roubo_apos_saque',\n",
              "       'roubo_bicicleta', 'outros_roubos', 'total_roubos', 'furto_veiculos',\n",
              "       'furto_transeunte', 'furto_coletivo', 'furto_celular',\n",
              "       'furto_bicicleta', 'outros_furtos', 'total_furtos', 'sequestro',\n",
              "       'extorsao', 'sequestro_relampago', 'estelionato', 'apreensao_drogas',\n",
              "       'posse_drogas', 'trafico_drogas', 'apreensao_drogas_sem_autor',\n",
              "       'recuperacao_veiculos', 'apf', 'aaapai', 'cmp', 'cmba', 'ameaca',\n",
              "       'pessoas_desaparecidas', 'encontro_cadaver', 'encontro_ossada',\n",
              "       'pol_militares_mortos_serv', 'pol_civis_mortos_serv',\n",
              "       'indicador_letalidade', 'indicador_roubo_rua', 'indicador_roubo_veic',\n",
              "       'registro_ocorrencias', 'fase'],\n",
              "      dtype='object')"
            ]
          },
          "metadata": {
            "tags": []
          },
          "execution_count": 4
        }
      ]
    },
    {
      "cell_type": "markdown",
      "metadata": {
        "id": "kHjddq34bNIC",
        "colab_type": "text"
      },
      "source": [
        "Abaixo temos que nossas colunas são formadas apenas de valores numéricos , floats ou inteiros, porém poderiamos transformar todas colunas em inteiros sem perda alguma de informação uma vez que não existe nada como 0.1 assassinato ou 2.3 roubos porém isso não mudaria em nada os dados extraidos, então deixaremos no formato já dado. Os dados serem todos valores numéricos será extremamente útil no momento de retirarmos informações estatísticas acerca do que escolheremos focar no projeto."
      ]
    },
    {
      "cell_type": "code",
      "metadata": {
        "id": "D_X6tjZTmcB9",
        "colab_type": "code",
        "colab": {
          "base_uri": "https://localhost:8080/",
          "height": 986
        },
        "outputId": "c01053d8-f922-4ca2-a3a7-3d853bbdeac5"
      },
      "source": [
        "df.dtypes"
      ],
      "execution_count": 5,
      "outputs": [
        {
          "output_type": "execute_result",
          "data": {
            "text/plain": [
              "vano                            int64\n",
              "mes                             int64\n",
              "hom_doloso                      int64\n",
              "lesao_corp_morte              float64\n",
              "latrocinio                      int64\n",
              "hom_por_interv_policial       float64\n",
              "tentat_hom                      int64\n",
              "lesao_corp_dolosa               int64\n",
              "estupro                       float64\n",
              "hom_culposo                   float64\n",
              "lesao_corp_culposa            float64\n",
              "roubo_comercio                  int64\n",
              "roubo_residencia                int64\n",
              "roubo_veiculo                   int64\n",
              "roubo_carga                     int64\n",
              "roubo_transeunte                int64\n",
              "roubo_em_coletivo               int64\n",
              "roubo_banco                     int64\n",
              "roubo_cx_eletronico           float64\n",
              "roubo_celular                 float64\n",
              "roubo_conducao_saque          float64\n",
              "roubo_apos_saque              float64\n",
              "roubo_bicicleta               float64\n",
              "outros_roubos                   int64\n",
              "total_roubos                    int64\n",
              "furto_veiculos                  int64\n",
              "furto_transeunte                int64\n",
              "furto_coletivo                float64\n",
              "furto_celular                 float64\n",
              "furto_bicicleta               float64\n",
              "outros_furtos                   int64\n",
              "total_furtos                    int64\n",
              "sequestro                     float64\n",
              "extorsao                      float64\n",
              "sequestro_relampago           float64\n",
              "estelionato                   float64\n",
              "apreensao_drogas                int64\n",
              "posse_drogas                  float64\n",
              "trafico_drogas                float64\n",
              "apreensao_drogas_sem_autor    float64\n",
              "recuperacao_veiculos            int64\n",
              "apf                           float64\n",
              "aaapai                        float64\n",
              "cmp                           float64\n",
              "cmba                          float64\n",
              "ameaca                        float64\n",
              "pessoas_desaparecidas         float64\n",
              "encontro_cadaver                int64\n",
              "encontro_ossada               float64\n",
              "pol_militares_mortos_serv     float64\n",
              "pol_civis_mortos_serv         float64\n",
              "indicador_letalidade            int64\n",
              "indicador_roubo_rua             int64\n",
              "indicador_roubo_veic            int64\n",
              "registro_ocorrencias          float64\n",
              "fase                            int64\n",
              "dtype: object"
            ]
          },
          "metadata": {
            "tags": []
          },
          "execution_count": 5
        }
      ]
    },
    {
      "cell_type": "markdown",
      "metadata": {
        "id": "caJnB8ZAc70C",
        "colab_type": "text"
      },
      "source": [
        "A seguir , vamos obervar as primeiras cinco e últimas cinco linhas de nossos dados. "
      ]
    },
    {
      "cell_type": "code",
      "metadata": {
        "id": "4fOEnTHkmb_I",
        "colab_type": "code",
        "colab": {
          "base_uri": "https://localhost:8080/",
          "height": 224
        },
        "outputId": "16ba1559-22e2-41dc-86b0-b20a875e736f"
      },
      "source": [
        "df.head()\n"
      ],
      "execution_count": 6,
      "outputs": [
        {
          "output_type": "execute_result",
          "data": {
            "text/html": [
              "<div>\n",
              "<style scoped>\n",
              "    .dataframe tbody tr th:only-of-type {\n",
              "        vertical-align: middle;\n",
              "    }\n",
              "\n",
              "    .dataframe tbody tr th {\n",
              "        vertical-align: top;\n",
              "    }\n",
              "\n",
              "    .dataframe thead th {\n",
              "        text-align: right;\n",
              "    }\n",
              "</style>\n",
              "<table border=\"1\" class=\"dataframe\">\n",
              "  <thead>\n",
              "    <tr style=\"text-align: right;\">\n",
              "      <th></th>\n",
              "      <th>vano</th>\n",
              "      <th>mes</th>\n",
              "      <th>hom_doloso</th>\n",
              "      <th>lesao_corp_morte</th>\n",
              "      <th>latrocinio</th>\n",
              "      <th>hom_por_interv_policial</th>\n",
              "      <th>tentat_hom</th>\n",
              "      <th>lesao_corp_dolosa</th>\n",
              "      <th>estupro</th>\n",
              "      <th>hom_culposo</th>\n",
              "      <th>lesao_corp_culposa</th>\n",
              "      <th>roubo_comercio</th>\n",
              "      <th>roubo_residencia</th>\n",
              "      <th>roubo_veiculo</th>\n",
              "      <th>roubo_carga</th>\n",
              "      <th>roubo_transeunte</th>\n",
              "      <th>roubo_em_coletivo</th>\n",
              "      <th>roubo_banco</th>\n",
              "      <th>roubo_cx_eletronico</th>\n",
              "      <th>roubo_celular</th>\n",
              "      <th>roubo_conducao_saque</th>\n",
              "      <th>roubo_apos_saque</th>\n",
              "      <th>roubo_bicicleta</th>\n",
              "      <th>outros_roubos</th>\n",
              "      <th>total_roubos</th>\n",
              "      <th>furto_veiculos</th>\n",
              "      <th>furto_transeunte</th>\n",
              "      <th>furto_coletivo</th>\n",
              "      <th>furto_celular</th>\n",
              "      <th>furto_bicicleta</th>\n",
              "      <th>outros_furtos</th>\n",
              "      <th>total_furtos</th>\n",
              "      <th>sequestro</th>\n",
              "      <th>extorsao</th>\n",
              "      <th>sequestro_relampago</th>\n",
              "      <th>estelionato</th>\n",
              "      <th>apreensao_drogas</th>\n",
              "      <th>posse_drogas</th>\n",
              "      <th>trafico_drogas</th>\n",
              "      <th>apreensao_drogas_sem_autor</th>\n",
              "      <th>recuperacao_veiculos</th>\n",
              "      <th>apf</th>\n",
              "      <th>aaapai</th>\n",
              "      <th>cmp</th>\n",
              "      <th>cmba</th>\n",
              "      <th>ameaca</th>\n",
              "      <th>pessoas_desaparecidas</th>\n",
              "      <th>encontro_cadaver</th>\n",
              "      <th>encontro_ossada</th>\n",
              "      <th>pol_militares_mortos_serv</th>\n",
              "      <th>pol_civis_mortos_serv</th>\n",
              "      <th>indicador_letalidade</th>\n",
              "      <th>indicador_roubo_rua</th>\n",
              "      <th>indicador_roubo_veic</th>\n",
              "      <th>registro_ocorrencias</th>\n",
              "      <th>fase</th>\n",
              "    </tr>\n",
              "  </thead>\n",
              "  <tbody>\n",
              "    <tr>\n",
              "      <th>0</th>\n",
              "      <td>1991</td>\n",
              "      <td>1</td>\n",
              "      <td>657</td>\n",
              "      <td>NaN</td>\n",
              "      <td>15</td>\n",
              "      <td>NaN</td>\n",
              "      <td>162</td>\n",
              "      <td>3051</td>\n",
              "      <td>NaN</td>\n",
              "      <td>NaN</td>\n",
              "      <td>NaN</td>\n",
              "      <td>350</td>\n",
              "      <td>188</td>\n",
              "      <td>1174</td>\n",
              "      <td>63</td>\n",
              "      <td>967</td>\n",
              "      <td>381</td>\n",
              "      <td>37</td>\n",
              "      <td>NaN</td>\n",
              "      <td>NaN</td>\n",
              "      <td>NaN</td>\n",
              "      <td>NaN</td>\n",
              "      <td>NaN</td>\n",
              "      <td>158</td>\n",
              "      <td>3318</td>\n",
              "      <td>2009</td>\n",
              "      <td>1147</td>\n",
              "      <td>NaN</td>\n",
              "      <td>NaN</td>\n",
              "      <td>NaN</td>\n",
              "      <td>3561</td>\n",
              "      <td>6717</td>\n",
              "      <td>NaN</td>\n",
              "      <td>NaN</td>\n",
              "      <td>NaN</td>\n",
              "      <td>NaN</td>\n",
              "      <td>133</td>\n",
              "      <td>NaN</td>\n",
              "      <td>NaN</td>\n",
              "      <td>NaN</td>\n",
              "      <td>872</td>\n",
              "      <td>NaN</td>\n",
              "      <td>NaN</td>\n",
              "      <td>NaN</td>\n",
              "      <td>NaN</td>\n",
              "      <td>NaN</td>\n",
              "      <td>NaN</td>\n",
              "      <td>217</td>\n",
              "      <td>NaN</td>\n",
              "      <td>NaN</td>\n",
              "      <td>NaN</td>\n",
              "      <td>672</td>\n",
              "      <td>1348</td>\n",
              "      <td>1174</td>\n",
              "      <td>NaN</td>\n",
              "      <td>3</td>\n",
              "    </tr>\n",
              "    <tr>\n",
              "      <th>1</th>\n",
              "      <td>1991</td>\n",
              "      <td>2</td>\n",
              "      <td>732</td>\n",
              "      <td>NaN</td>\n",
              "      <td>17</td>\n",
              "      <td>NaN</td>\n",
              "      <td>175</td>\n",
              "      <td>3421</td>\n",
              "      <td>NaN</td>\n",
              "      <td>NaN</td>\n",
              "      <td>NaN</td>\n",
              "      <td>357</td>\n",
              "      <td>171</td>\n",
              "      <td>1097</td>\n",
              "      <td>64</td>\n",
              "      <td>963</td>\n",
              "      <td>432</td>\n",
              "      <td>35</td>\n",
              "      <td>NaN</td>\n",
              "      <td>NaN</td>\n",
              "      <td>NaN</td>\n",
              "      <td>NaN</td>\n",
              "      <td>NaN</td>\n",
              "      <td>142</td>\n",
              "      <td>3261</td>\n",
              "      <td>1850</td>\n",
              "      <td>1066</td>\n",
              "      <td>NaN</td>\n",
              "      <td>NaN</td>\n",
              "      <td>NaN</td>\n",
              "      <td>3309</td>\n",
              "      <td>6225</td>\n",
              "      <td>NaN</td>\n",
              "      <td>NaN</td>\n",
              "      <td>NaN</td>\n",
              "      <td>NaN</td>\n",
              "      <td>127</td>\n",
              "      <td>NaN</td>\n",
              "      <td>NaN</td>\n",
              "      <td>NaN</td>\n",
              "      <td>751</td>\n",
              "      <td>NaN</td>\n",
              "      <td>NaN</td>\n",
              "      <td>NaN</td>\n",
              "      <td>NaN</td>\n",
              "      <td>NaN</td>\n",
              "      <td>NaN</td>\n",
              "      <td>209</td>\n",
              "      <td>NaN</td>\n",
              "      <td>NaN</td>\n",
              "      <td>NaN</td>\n",
              "      <td>749</td>\n",
              "      <td>1395</td>\n",
              "      <td>1097</td>\n",
              "      <td>NaN</td>\n",
              "      <td>3</td>\n",
              "    </tr>\n",
              "    <tr>\n",
              "      <th>2</th>\n",
              "      <td>1991</td>\n",
              "      <td>3</td>\n",
              "      <td>713</td>\n",
              "      <td>NaN</td>\n",
              "      <td>25</td>\n",
              "      <td>NaN</td>\n",
              "      <td>216</td>\n",
              "      <td>3613</td>\n",
              "      <td>NaN</td>\n",
              "      <td>NaN</td>\n",
              "      <td>NaN</td>\n",
              "      <td>443</td>\n",
              "      <td>191</td>\n",
              "      <td>1265</td>\n",
              "      <td>71</td>\n",
              "      <td>963</td>\n",
              "      <td>422</td>\n",
              "      <td>43</td>\n",
              "      <td>NaN</td>\n",
              "      <td>NaN</td>\n",
              "      <td>NaN</td>\n",
              "      <td>NaN</td>\n",
              "      <td>NaN</td>\n",
              "      <td>131</td>\n",
              "      <td>3529</td>\n",
              "      <td>2084</td>\n",
              "      <td>1062</td>\n",
              "      <td>NaN</td>\n",
              "      <td>NaN</td>\n",
              "      <td>NaN</td>\n",
              "      <td>3573</td>\n",
              "      <td>6719</td>\n",
              "      <td>NaN</td>\n",
              "      <td>NaN</td>\n",
              "      <td>NaN</td>\n",
              "      <td>NaN</td>\n",
              "      <td>80</td>\n",
              "      <td>NaN</td>\n",
              "      <td>NaN</td>\n",
              "      <td>NaN</td>\n",
              "      <td>789</td>\n",
              "      <td>NaN</td>\n",
              "      <td>NaN</td>\n",
              "      <td>NaN</td>\n",
              "      <td>NaN</td>\n",
              "      <td>NaN</td>\n",
              "      <td>NaN</td>\n",
              "      <td>188</td>\n",
              "      <td>NaN</td>\n",
              "      <td>NaN</td>\n",
              "      <td>NaN</td>\n",
              "      <td>738</td>\n",
              "      <td>1385</td>\n",
              "      <td>1265</td>\n",
              "      <td>NaN</td>\n",
              "      <td>3</td>\n",
              "    </tr>\n",
              "    <tr>\n",
              "      <th>3</th>\n",
              "      <td>1991</td>\n",
              "      <td>4</td>\n",
              "      <td>634</td>\n",
              "      <td>NaN</td>\n",
              "      <td>20</td>\n",
              "      <td>NaN</td>\n",
              "      <td>200</td>\n",
              "      <td>3211</td>\n",
              "      <td>NaN</td>\n",
              "      <td>NaN</td>\n",
              "      <td>NaN</td>\n",
              "      <td>425</td>\n",
              "      <td>199</td>\n",
              "      <td>1415</td>\n",
              "      <td>81</td>\n",
              "      <td>1186</td>\n",
              "      <td>354</td>\n",
              "      <td>36</td>\n",
              "      <td>NaN</td>\n",
              "      <td>NaN</td>\n",
              "      <td>NaN</td>\n",
              "      <td>NaN</td>\n",
              "      <td>NaN</td>\n",
              "      <td>112</td>\n",
              "      <td>3808</td>\n",
              "      <td>2085</td>\n",
              "      <td>1195</td>\n",
              "      <td>NaN</td>\n",
              "      <td>NaN</td>\n",
              "      <td>NaN</td>\n",
              "      <td>3290</td>\n",
              "      <td>6570</td>\n",
              "      <td>NaN</td>\n",
              "      <td>NaN</td>\n",
              "      <td>NaN</td>\n",
              "      <td>NaN</td>\n",
              "      <td>133</td>\n",
              "      <td>NaN</td>\n",
              "      <td>NaN</td>\n",
              "      <td>NaN</td>\n",
              "      <td>787</td>\n",
              "      <td>NaN</td>\n",
              "      <td>NaN</td>\n",
              "      <td>NaN</td>\n",
              "      <td>NaN</td>\n",
              "      <td>NaN</td>\n",
              "      <td>NaN</td>\n",
              "      <td>140</td>\n",
              "      <td>NaN</td>\n",
              "      <td>NaN</td>\n",
              "      <td>NaN</td>\n",
              "      <td>654</td>\n",
              "      <td>1540</td>\n",
              "      <td>1415</td>\n",
              "      <td>NaN</td>\n",
              "      <td>3</td>\n",
              "    </tr>\n",
              "    <tr>\n",
              "      <th>4</th>\n",
              "      <td>1991</td>\n",
              "      <td>5</td>\n",
              "      <td>650</td>\n",
              "      <td>NaN</td>\n",
              "      <td>20</td>\n",
              "      <td>NaN</td>\n",
              "      <td>146</td>\n",
              "      <td>3051</td>\n",
              "      <td>NaN</td>\n",
              "      <td>NaN</td>\n",
              "      <td>NaN</td>\n",
              "      <td>553</td>\n",
              "      <td>231</td>\n",
              "      <td>1449</td>\n",
              "      <td>82</td>\n",
              "      <td>931</td>\n",
              "      <td>335</td>\n",
              "      <td>27</td>\n",
              "      <td>NaN</td>\n",
              "      <td>NaN</td>\n",
              "      <td>NaN</td>\n",
              "      <td>NaN</td>\n",
              "      <td>NaN</td>\n",
              "      <td>147</td>\n",
              "      <td>3755</td>\n",
              "      <td>2185</td>\n",
              "      <td>723</td>\n",
              "      <td>NaN</td>\n",
              "      <td>NaN</td>\n",
              "      <td>NaN</td>\n",
              "      <td>3546</td>\n",
              "      <td>6454</td>\n",
              "      <td>NaN</td>\n",
              "      <td>NaN</td>\n",
              "      <td>NaN</td>\n",
              "      <td>NaN</td>\n",
              "      <td>163</td>\n",
              "      <td>NaN</td>\n",
              "      <td>NaN</td>\n",
              "      <td>NaN</td>\n",
              "      <td>845</td>\n",
              "      <td>NaN</td>\n",
              "      <td>NaN</td>\n",
              "      <td>NaN</td>\n",
              "      <td>NaN</td>\n",
              "      <td>NaN</td>\n",
              "      <td>NaN</td>\n",
              "      <td>78</td>\n",
              "      <td>NaN</td>\n",
              "      <td>NaN</td>\n",
              "      <td>NaN</td>\n",
              "      <td>670</td>\n",
              "      <td>1266</td>\n",
              "      <td>1449</td>\n",
              "      <td>NaN</td>\n",
              "      <td>3</td>\n",
              "    </tr>\n",
              "  </tbody>\n",
              "</table>\n",
              "</div>"
            ],
            "text/plain": [
              "   vano  mes  hom_doloso  ...  indicador_roubo_veic  registro_ocorrencias  fase\n",
              "0  1991    1         657  ...                  1174                   NaN     3\n",
              "1  1991    2         732  ...                  1097                   NaN     3\n",
              "2  1991    3         713  ...                  1265                   NaN     3\n",
              "3  1991    4         634  ...                  1415                   NaN     3\n",
              "4  1991    5         650  ...                  1449                   NaN     3\n",
              "\n",
              "[5 rows x 56 columns]"
            ]
          },
          "metadata": {
            "tags": []
          },
          "execution_count": 6
        }
      ]
    },
    {
      "cell_type": "code",
      "metadata": {
        "id": "g6S7XjfKNtia",
        "colab_type": "code",
        "colab": {
          "base_uri": "https://localhost:8080/",
          "height": 224
        },
        "outputId": "7d5b414e-f69d-4dd6-9769-918e26888c10"
      },
      "source": [
        "df.tail()"
      ],
      "execution_count": 7,
      "outputs": [
        {
          "output_type": "execute_result",
          "data": {
            "text/html": [
              "<div>\n",
              "<style scoped>\n",
              "    .dataframe tbody tr th:only-of-type {\n",
              "        vertical-align: middle;\n",
              "    }\n",
              "\n",
              "    .dataframe tbody tr th {\n",
              "        vertical-align: top;\n",
              "    }\n",
              "\n",
              "    .dataframe thead th {\n",
              "        text-align: right;\n",
              "    }\n",
              "</style>\n",
              "<table border=\"1\" class=\"dataframe\">\n",
              "  <thead>\n",
              "    <tr style=\"text-align: right;\">\n",
              "      <th></th>\n",
              "      <th>vano</th>\n",
              "      <th>mes</th>\n",
              "      <th>hom_doloso</th>\n",
              "      <th>lesao_corp_morte</th>\n",
              "      <th>latrocinio</th>\n",
              "      <th>hom_por_interv_policial</th>\n",
              "      <th>tentat_hom</th>\n",
              "      <th>lesao_corp_dolosa</th>\n",
              "      <th>estupro</th>\n",
              "      <th>hom_culposo</th>\n",
              "      <th>lesao_corp_culposa</th>\n",
              "      <th>roubo_comercio</th>\n",
              "      <th>roubo_residencia</th>\n",
              "      <th>roubo_veiculo</th>\n",
              "      <th>roubo_carga</th>\n",
              "      <th>roubo_transeunte</th>\n",
              "      <th>roubo_em_coletivo</th>\n",
              "      <th>roubo_banco</th>\n",
              "      <th>roubo_cx_eletronico</th>\n",
              "      <th>roubo_celular</th>\n",
              "      <th>roubo_conducao_saque</th>\n",
              "      <th>roubo_apos_saque</th>\n",
              "      <th>roubo_bicicleta</th>\n",
              "      <th>outros_roubos</th>\n",
              "      <th>total_roubos</th>\n",
              "      <th>furto_veiculos</th>\n",
              "      <th>furto_transeunte</th>\n",
              "      <th>furto_coletivo</th>\n",
              "      <th>furto_celular</th>\n",
              "      <th>furto_bicicleta</th>\n",
              "      <th>outros_furtos</th>\n",
              "      <th>total_furtos</th>\n",
              "      <th>sequestro</th>\n",
              "      <th>extorsao</th>\n",
              "      <th>sequestro_relampago</th>\n",
              "      <th>estelionato</th>\n",
              "      <th>apreensao_drogas</th>\n",
              "      <th>posse_drogas</th>\n",
              "      <th>trafico_drogas</th>\n",
              "      <th>apreensao_drogas_sem_autor</th>\n",
              "      <th>recuperacao_veiculos</th>\n",
              "      <th>apf</th>\n",
              "      <th>aaapai</th>\n",
              "      <th>cmp</th>\n",
              "      <th>cmba</th>\n",
              "      <th>ameaca</th>\n",
              "      <th>pessoas_desaparecidas</th>\n",
              "      <th>encontro_cadaver</th>\n",
              "      <th>encontro_ossada</th>\n",
              "      <th>pol_militares_mortos_serv</th>\n",
              "      <th>pol_civis_mortos_serv</th>\n",
              "      <th>indicador_letalidade</th>\n",
              "      <th>indicador_roubo_rua</th>\n",
              "      <th>indicador_roubo_veic</th>\n",
              "      <th>registro_ocorrencias</th>\n",
              "      <th>fase</th>\n",
              "    </tr>\n",
              "  </thead>\n",
              "  <tbody>\n",
              "    <tr>\n",
              "      <th>339</th>\n",
              "      <td>2019</td>\n",
              "      <td>4</td>\n",
              "      <td>360</td>\n",
              "      <td>1.0</td>\n",
              "      <td>11</td>\n",
              "      <td>124.0</td>\n",
              "      <td>466</td>\n",
              "      <td>5573</td>\n",
              "      <td>483.0</td>\n",
              "      <td>172.0</td>\n",
              "      <td>2182.0</td>\n",
              "      <td>502</td>\n",
              "      <td>124</td>\n",
              "      <td>3755</td>\n",
              "      <td>667</td>\n",
              "      <td>7031</td>\n",
              "      <td>1585</td>\n",
              "      <td>2</td>\n",
              "      <td>4.0</td>\n",
              "      <td>2424.0</td>\n",
              "      <td>10.0</td>\n",
              "      <td>82.0</td>\n",
              "      <td>23.0</td>\n",
              "      <td>2245</td>\n",
              "      <td>18454</td>\n",
              "      <td>1244</td>\n",
              "      <td>1519</td>\n",
              "      <td>607.0</td>\n",
              "      <td>1318.0</td>\n",
              "      <td>211.0</td>\n",
              "      <td>7633</td>\n",
              "      <td>12532</td>\n",
              "      <td>0.0</td>\n",
              "      <td>151.0</td>\n",
              "      <td>11.0</td>\n",
              "      <td>3260.0</td>\n",
              "      <td>1909</td>\n",
              "      <td>745.0</td>\n",
              "      <td>1021.0</td>\n",
              "      <td>187.0</td>\n",
              "      <td>2624</td>\n",
              "      <td>3128.0</td>\n",
              "      <td>497.0</td>\n",
              "      <td>1648.0</td>\n",
              "      <td>350.0</td>\n",
              "      <td>5310.0</td>\n",
              "      <td>408.0</td>\n",
              "      <td>22</td>\n",
              "      <td>3.0</td>\n",
              "      <td>1.0</td>\n",
              "      <td>0.0</td>\n",
              "      <td>496</td>\n",
              "      <td>11040</td>\n",
              "      <td>3755</td>\n",
              "      <td>67797.0</td>\n",
              "      <td>3</td>\n",
              "    </tr>\n",
              "    <tr>\n",
              "      <th>340</th>\n",
              "      <td>2019</td>\n",
              "      <td>5</td>\n",
              "      <td>345</td>\n",
              "      <td>2.0</td>\n",
              "      <td>15</td>\n",
              "      <td>172.0</td>\n",
              "      <td>478</td>\n",
              "      <td>4958</td>\n",
              "      <td>465.0</td>\n",
              "      <td>145.0</td>\n",
              "      <td>2304.0</td>\n",
              "      <td>514</td>\n",
              "      <td>93</td>\n",
              "      <td>3649</td>\n",
              "      <td>710</td>\n",
              "      <td>7332</td>\n",
              "      <td>1625</td>\n",
              "      <td>1</td>\n",
              "      <td>3.0</td>\n",
              "      <td>2427.0</td>\n",
              "      <td>9.0</td>\n",
              "      <td>87.0</td>\n",
              "      <td>7.0</td>\n",
              "      <td>2216</td>\n",
              "      <td>18673</td>\n",
              "      <td>1480</td>\n",
              "      <td>1475</td>\n",
              "      <td>715.0</td>\n",
              "      <td>1423.0</td>\n",
              "      <td>220.0</td>\n",
              "      <td>7711</td>\n",
              "      <td>13024</td>\n",
              "      <td>0.0</td>\n",
              "      <td>147.0</td>\n",
              "      <td>7.0</td>\n",
              "      <td>3498.0</td>\n",
              "      <td>2034</td>\n",
              "      <td>735.0</td>\n",
              "      <td>1133.0</td>\n",
              "      <td>199.0</td>\n",
              "      <td>2450</td>\n",
              "      <td>3169.0</td>\n",
              "      <td>527.0</td>\n",
              "      <td>1771.0</td>\n",
              "      <td>248.0</td>\n",
              "      <td>5068.0</td>\n",
              "      <td>390.0</td>\n",
              "      <td>20</td>\n",
              "      <td>1.0</td>\n",
              "      <td>0.0</td>\n",
              "      <td>0.0</td>\n",
              "      <td>534</td>\n",
              "      <td>11384</td>\n",
              "      <td>3649</td>\n",
              "      <td>68336.0</td>\n",
              "      <td>3</td>\n",
              "    </tr>\n",
              "    <tr>\n",
              "      <th>341</th>\n",
              "      <td>2019</td>\n",
              "      <td>6</td>\n",
              "      <td>332</td>\n",
              "      <td>3.0</td>\n",
              "      <td>8</td>\n",
              "      <td>153.0</td>\n",
              "      <td>436</td>\n",
              "      <td>4769</td>\n",
              "      <td>414.0</td>\n",
              "      <td>152.0</td>\n",
              "      <td>2481.0</td>\n",
              "      <td>382</td>\n",
              "      <td>85</td>\n",
              "      <td>3115</td>\n",
              "      <td>599</td>\n",
              "      <td>6077</td>\n",
              "      <td>1287</td>\n",
              "      <td>1</td>\n",
              "      <td>4.0</td>\n",
              "      <td>2187.0</td>\n",
              "      <td>19.0</td>\n",
              "      <td>83.0</td>\n",
              "      <td>9.0</td>\n",
              "      <td>1984</td>\n",
              "      <td>15832</td>\n",
              "      <td>1251</td>\n",
              "      <td>1443</td>\n",
              "      <td>630.0</td>\n",
              "      <td>1345.0</td>\n",
              "      <td>189.0</td>\n",
              "      <td>7224</td>\n",
              "      <td>12082</td>\n",
              "      <td>0.0</td>\n",
              "      <td>133.0</td>\n",
              "      <td>6.0</td>\n",
              "      <td>3029.0</td>\n",
              "      <td>1854</td>\n",
              "      <td>763.0</td>\n",
              "      <td>976.0</td>\n",
              "      <td>158.0</td>\n",
              "      <td>2041</td>\n",
              "      <td>2848.0</td>\n",
              "      <td>467.0</td>\n",
              "      <td>1585.0</td>\n",
              "      <td>233.0</td>\n",
              "      <td>4497.0</td>\n",
              "      <td>403.0</td>\n",
              "      <td>20</td>\n",
              "      <td>1.0</td>\n",
              "      <td>3.0</td>\n",
              "      <td>0.0</td>\n",
              "      <td>496</td>\n",
              "      <td>9551</td>\n",
              "      <td>3115</td>\n",
              "      <td>61202.0</td>\n",
              "      <td>3</td>\n",
              "    </tr>\n",
              "    <tr>\n",
              "      <th>342</th>\n",
              "      <td>2019</td>\n",
              "      <td>7</td>\n",
              "      <td>309</td>\n",
              "      <td>5.0</td>\n",
              "      <td>10</td>\n",
              "      <td>194.0</td>\n",
              "      <td>399</td>\n",
              "      <td>4740</td>\n",
              "      <td>402.0</td>\n",
              "      <td>140.0</td>\n",
              "      <td>2334.0</td>\n",
              "      <td>386</td>\n",
              "      <td>72</td>\n",
              "      <td>3198</td>\n",
              "      <td>691</td>\n",
              "      <td>6637</td>\n",
              "      <td>1208</td>\n",
              "      <td>1</td>\n",
              "      <td>0.0</td>\n",
              "      <td>2226.0</td>\n",
              "      <td>12.0</td>\n",
              "      <td>97.0</td>\n",
              "      <td>16.0</td>\n",
              "      <td>2110</td>\n",
              "      <td>16654</td>\n",
              "      <td>1353</td>\n",
              "      <td>1570</td>\n",
              "      <td>746.0</td>\n",
              "      <td>1391.0</td>\n",
              "      <td>230.0</td>\n",
              "      <td>7632</td>\n",
              "      <td>12922</td>\n",
              "      <td>0.0</td>\n",
              "      <td>135.0</td>\n",
              "      <td>12.0</td>\n",
              "      <td>3627.0</td>\n",
              "      <td>1861</td>\n",
              "      <td>709.0</td>\n",
              "      <td>996.0</td>\n",
              "      <td>187.0</td>\n",
              "      <td>2355</td>\n",
              "      <td>2907.0</td>\n",
              "      <td>490.0</td>\n",
              "      <td>1856.0</td>\n",
              "      <td>267.0</td>\n",
              "      <td>4678.0</td>\n",
              "      <td>400.0</td>\n",
              "      <td>32</td>\n",
              "      <td>7.0</td>\n",
              "      <td>0.0</td>\n",
              "      <td>0.0</td>\n",
              "      <td>518</td>\n",
              "      <td>10071</td>\n",
              "      <td>3198</td>\n",
              "      <td>65817.0</td>\n",
              "      <td>2</td>\n",
              "    </tr>\n",
              "    <tr>\n",
              "      <th>343</th>\n",
              "      <td>2019</td>\n",
              "      <td>8</td>\n",
              "      <td>318</td>\n",
              "      <td>1.0</td>\n",
              "      <td>6</td>\n",
              "      <td>170.0</td>\n",
              "      <td>457</td>\n",
              "      <td>4760</td>\n",
              "      <td>460.0</td>\n",
              "      <td>156.0</td>\n",
              "      <td>2437.0</td>\n",
              "      <td>433</td>\n",
              "      <td>103</td>\n",
              "      <td>3181</td>\n",
              "      <td>587</td>\n",
              "      <td>6452</td>\n",
              "      <td>1215</td>\n",
              "      <td>1</td>\n",
              "      <td>1.0</td>\n",
              "      <td>2245.0</td>\n",
              "      <td>9.0</td>\n",
              "      <td>98.0</td>\n",
              "      <td>17.0</td>\n",
              "      <td>1794</td>\n",
              "      <td>16136</td>\n",
              "      <td>1361</td>\n",
              "      <td>1568</td>\n",
              "      <td>674.0</td>\n",
              "      <td>1534.0</td>\n",
              "      <td>185.0</td>\n",
              "      <td>7280</td>\n",
              "      <td>12602</td>\n",
              "      <td>0.0</td>\n",
              "      <td>132.0</td>\n",
              "      <td>12.0</td>\n",
              "      <td>3546.0</td>\n",
              "      <td>1862</td>\n",
              "      <td>668.0</td>\n",
              "      <td>1067.0</td>\n",
              "      <td>171.0</td>\n",
              "      <td>2081</td>\n",
              "      <td>3114.0</td>\n",
              "      <td>476.0</td>\n",
              "      <td>2028.0</td>\n",
              "      <td>265.0</td>\n",
              "      <td>4662.0</td>\n",
              "      <td>367.0</td>\n",
              "      <td>27</td>\n",
              "      <td>8.0</td>\n",
              "      <td>2.0</td>\n",
              "      <td>0.0</td>\n",
              "      <td>495</td>\n",
              "      <td>9912</td>\n",
              "      <td>3181</td>\n",
              "      <td>65285.0</td>\n",
              "      <td>2</td>\n",
              "    </tr>\n",
              "  </tbody>\n",
              "</table>\n",
              "</div>"
            ],
            "text/plain": [
              "     vano  mes  hom_doloso  ...  indicador_roubo_veic  registro_ocorrencias  fase\n",
              "339  2019    4         360  ...                  3755               67797.0     3\n",
              "340  2019    5         345  ...                  3649               68336.0     3\n",
              "341  2019    6         332  ...                  3115               61202.0     3\n",
              "342  2019    7         309  ...                  3198               65817.0     2\n",
              "343  2019    8         318  ...                  3181               65285.0     2\n",
              "\n",
              "[5 rows x 56 columns]"
            ]
          },
          "metadata": {
            "tags": []
          },
          "execution_count": 7
        }
      ]
    },
    {
      "cell_type": "markdown",
      "metadata": {
        "id": "dKvWQVdZdfTa",
        "colab_type": "text"
      },
      "source": [
        "Como esperado, existem informações faltantes nas primeiras entradas, para não acabarmos baseando nossa análise em colunas com muitos dados faltantes, no código abaixo checaremos a porcentagem de valores não definidos para cada coluna."
      ]
    },
    {
      "cell_type": "code",
      "metadata": {
        "id": "1D3i7BXFmb8S",
        "colab_type": "code",
        "colab": {
          "base_uri": "https://localhost:8080/",
          "height": 986
        },
        "outputId": "9a6f21f3-536b-4acd-ebaa-1bc9fcd8d175"
      },
      "source": [
        "df.isna().sum().sort_values() / df.shape[0]"
      ],
      "execution_count": 8,
      "outputs": [
        {
          "output_type": "execute_result",
          "data": {
            "text/plain": [
              "vano                          0.000000\n",
              "indicador_roubo_veic          0.000000\n",
              "indicador_roubo_rua           0.000000\n",
              "indicador_letalidade          0.000000\n",
              "encontro_cadaver              0.000000\n",
              "recuperacao_veiculos          0.000000\n",
              "apreensao_drogas              0.000000\n",
              "total_furtos                  0.000000\n",
              "outros_furtos                 0.000000\n",
              "furto_transeunte              0.000000\n",
              "furto_veiculos                0.000000\n",
              "total_roubos                  0.000000\n",
              "outros_roubos                 0.000000\n",
              "roubo_banco                   0.000000\n",
              "roubo_em_coletivo             0.000000\n",
              "fase                          0.000000\n",
              "roubo_carga                   0.000000\n",
              "roubo_veiculo                 0.000000\n",
              "mes                           0.000000\n",
              "roubo_transeunte              0.000000\n",
              "hom_doloso                    0.000000\n",
              "lesao_corp_dolosa             0.000000\n",
              "latrocinio                    0.000000\n",
              "roubo_residencia              0.000000\n",
              "roubo_comercio                0.000000\n",
              "tentat_hom                    0.000000\n",
              "hom_culposo                   0.244186\n",
              "hom_por_interv_policial       0.244186\n",
              "registro_ocorrencias          0.279070\n",
              "lesao_corp_morte              0.279070\n",
              "sequestro                     0.279070\n",
              "ameaca                        0.279070\n",
              "lesao_corp_culposa            0.279070\n",
              "roubo_celular                 0.313953\n",
              "encontro_ossada               0.383721\n",
              "pessoas_desaparecidas         0.383721\n",
              "pol_militares_mortos_serv     0.418605\n",
              "pol_civis_mortos_serv         0.418605\n",
              "estelionato                   0.418605\n",
              "estupro                       0.418605\n",
              "roubo_cx_eletronico           0.418605\n",
              "roubo_conducao_saque          0.418605\n",
              "roubo_apos_saque              0.418605\n",
              "furto_celular                 0.418605\n",
              "extorsao                      0.418605\n",
              "furto_coletivo                0.418605\n",
              "sequestro_relampago           0.418605\n",
              "cmba                          0.523256\n",
              "trafico_drogas                0.523256\n",
              "cmp                           0.523256\n",
              "aaapai                        0.523256\n",
              "apf                           0.523256\n",
              "posse_drogas                  0.523256\n",
              "apreensao_drogas_sem_autor    0.523256\n",
              "furto_bicicleta               0.802326\n",
              "roubo_bicicleta               0.802326\n",
              "dtype: float64"
            ]
          },
          "metadata": {
            "tags": []
          },
          "execution_count": 8
        }
      ]
    },
    {
      "cell_type": "markdown",
      "metadata": {
        "id": "G6dnsNYm-41g",
        "colab_type": "text"
      },
      "source": [
        "## Informações Estatísticas da Violência no Rio de Janeiro\n",
        "\n",
        "Agora iremos analisar numericamente algumas colunas de nossos dados, as escolhidas serão, em geral, as com maior número de ocorrências, ou seja, mais comuns, são elas:\n",
        "  * `roubo_veiculo`\n",
        "  * `furto_veiculos`\n",
        "  * `recuperacao_veiculos`\n",
        "  * `total_furtos`\n",
        "  * `total_roubos`\n",
        "  * `hom_doloso`\n",
        "* E iremos checar como os veículos roubados se relacionam com os recuperados,que é dado por:\n",
        "  * $\\frac{\\text{recuperacao_veiculos}}{\\text{roubo_veiculo} + \\text{furto_veiculos}}$\n",
        "\n"
      ]
    },
    {
      "cell_type": "code",
      "metadata": {
        "id": "k9ZJZMPXmHV8",
        "colab_type": "code",
        "colab": {
          "base_uri": "https://localhost:8080/",
          "height": 317
        },
        "outputId": "f2602ef6-bd90-4141-d0f4-cd1f2efe9e20"
      },
      "source": [
        "df.describe()"
      ],
      "execution_count": 9,
      "outputs": [
        {
          "output_type": "execute_result",
          "data": {
            "text/html": [
              "<div>\n",
              "<style scoped>\n",
              "    .dataframe tbody tr th:only-of-type {\n",
              "        vertical-align: middle;\n",
              "    }\n",
              "\n",
              "    .dataframe tbody tr th {\n",
              "        vertical-align: top;\n",
              "    }\n",
              "\n",
              "    .dataframe thead th {\n",
              "        text-align: right;\n",
              "    }\n",
              "</style>\n",
              "<table border=\"1\" class=\"dataframe\">\n",
              "  <thead>\n",
              "    <tr style=\"text-align: right;\">\n",
              "      <th></th>\n",
              "      <th>vano</th>\n",
              "      <th>mes</th>\n",
              "      <th>hom_doloso</th>\n",
              "      <th>lesao_corp_morte</th>\n",
              "      <th>latrocinio</th>\n",
              "      <th>hom_por_interv_policial</th>\n",
              "      <th>tentat_hom</th>\n",
              "      <th>lesao_corp_dolosa</th>\n",
              "      <th>estupro</th>\n",
              "      <th>hom_culposo</th>\n",
              "      <th>lesao_corp_culposa</th>\n",
              "      <th>roubo_comercio</th>\n",
              "      <th>roubo_residencia</th>\n",
              "      <th>roubo_veiculo</th>\n",
              "      <th>roubo_carga</th>\n",
              "      <th>roubo_transeunte</th>\n",
              "      <th>roubo_em_coletivo</th>\n",
              "      <th>roubo_banco</th>\n",
              "      <th>roubo_cx_eletronico</th>\n",
              "      <th>roubo_celular</th>\n",
              "      <th>roubo_conducao_saque</th>\n",
              "      <th>roubo_apos_saque</th>\n",
              "      <th>roubo_bicicleta</th>\n",
              "      <th>outros_roubos</th>\n",
              "      <th>total_roubos</th>\n",
              "      <th>furto_veiculos</th>\n",
              "      <th>furto_transeunte</th>\n",
              "      <th>furto_coletivo</th>\n",
              "      <th>furto_celular</th>\n",
              "      <th>furto_bicicleta</th>\n",
              "      <th>outros_furtos</th>\n",
              "      <th>total_furtos</th>\n",
              "      <th>sequestro</th>\n",
              "      <th>extorsao</th>\n",
              "      <th>sequestro_relampago</th>\n",
              "      <th>estelionato</th>\n",
              "      <th>apreensao_drogas</th>\n",
              "      <th>posse_drogas</th>\n",
              "      <th>trafico_drogas</th>\n",
              "      <th>apreensao_drogas_sem_autor</th>\n",
              "      <th>recuperacao_veiculos</th>\n",
              "      <th>apf</th>\n",
              "      <th>aaapai</th>\n",
              "      <th>cmp</th>\n",
              "      <th>cmba</th>\n",
              "      <th>ameaca</th>\n",
              "      <th>pessoas_desaparecidas</th>\n",
              "      <th>encontro_cadaver</th>\n",
              "      <th>encontro_ossada</th>\n",
              "      <th>pol_militares_mortos_serv</th>\n",
              "      <th>pol_civis_mortos_serv</th>\n",
              "      <th>indicador_letalidade</th>\n",
              "      <th>indicador_roubo_rua</th>\n",
              "      <th>indicador_roubo_veic</th>\n",
              "      <th>registro_ocorrencias</th>\n",
              "      <th>fase</th>\n",
              "    </tr>\n",
              "  </thead>\n",
              "  <tbody>\n",
              "    <tr>\n",
              "      <th>count</th>\n",
              "      <td>344.000000</td>\n",
              "      <td>344.000000</td>\n",
              "      <td>344.000000</td>\n",
              "      <td>248.000000</td>\n",
              "      <td>344.000000</td>\n",
              "      <td>260.00000</td>\n",
              "      <td>344.000000</td>\n",
              "      <td>344.000000</td>\n",
              "      <td>200.000000</td>\n",
              "      <td>260.000000</td>\n",
              "      <td>248.000000</td>\n",
              "      <td>344.000000</td>\n",
              "      <td>344.000000</td>\n",
              "      <td>344.000000</td>\n",
              "      <td>344.000000</td>\n",
              "      <td>344.000000</td>\n",
              "      <td>344.000000</td>\n",
              "      <td>344.000000</td>\n",
              "      <td>200.000000</td>\n",
              "      <td>236.000000</td>\n",
              "      <td>200.000000</td>\n",
              "      <td>200.000000</td>\n",
              "      <td>68.000000</td>\n",
              "      <td>344.000000</td>\n",
              "      <td>344.000000</td>\n",
              "      <td>344.000000</td>\n",
              "      <td>344.000000</td>\n",
              "      <td>200.000000</td>\n",
              "      <td>200.000000</td>\n",
              "      <td>68.000000</td>\n",
              "      <td>344.000000</td>\n",
              "      <td>344.000000</td>\n",
              "      <td>248.000000</td>\n",
              "      <td>200.000000</td>\n",
              "      <td>200.000000</td>\n",
              "      <td>200.000000</td>\n",
              "      <td>344.000000</td>\n",
              "      <td>164.000000</td>\n",
              "      <td>164.000000</td>\n",
              "      <td>164.000000</td>\n",
              "      <td>344.000000</td>\n",
              "      <td>164.000000</td>\n",
              "      <td>164.000000</td>\n",
              "      <td>164.000000</td>\n",
              "      <td>164.000000</td>\n",
              "      <td>248.000000</td>\n",
              "      <td>212.000000</td>\n",
              "      <td>344.000000</td>\n",
              "      <td>212.000000</td>\n",
              "      <td>200.000000</td>\n",
              "      <td>200.00000</td>\n",
              "      <td>344.000000</td>\n",
              "      <td>344.000000</td>\n",
              "      <td>344.000000</td>\n",
              "      <td>248.000000</td>\n",
              "      <td>344.000000</td>\n",
              "    </tr>\n",
              "    <tr>\n",
              "      <th>mean</th>\n",
              "      <td>2004.837209</td>\n",
              "      <td>6.453488</td>\n",
              "      <td>504.555233</td>\n",
              "      <td>4.334677</td>\n",
              "      <td>15.668605</td>\n",
              "      <td>71.90000</td>\n",
              "      <td>318.267442</td>\n",
              "      <td>5492.799419</td>\n",
              "      <td>369.945000</td>\n",
              "      <td>212.119231</td>\n",
              "      <td>3410.762097</td>\n",
              "      <td>455.005814</td>\n",
              "      <td>133.284884</td>\n",
              "      <td>2448.697674</td>\n",
              "      <td>340.322674</td>\n",
              "      <td>3418.520349</td>\n",
              "      <td>659.002907</td>\n",
              "      <td>9.375000</td>\n",
              "      <td>3.550000</td>\n",
              "      <td>957.974576</td>\n",
              "      <td>11.320000</td>\n",
              "      <td>145.665000</td>\n",
              "      <td>10.808824</td>\n",
              "      <td>1211.223837</td>\n",
              "      <td>9428.119186</td>\n",
              "      <td>1674.671512</td>\n",
              "      <td>1518.921512</td>\n",
              "      <td>650.230000</td>\n",
              "      <td>1449.175000</td>\n",
              "      <td>124.808824</td>\n",
              "      <td>5994.328488</td>\n",
              "      <td>10433.177326</td>\n",
              "      <td>0.665323</td>\n",
              "      <td>133.265000</td>\n",
              "      <td>7.755000</td>\n",
              "      <td>2231.860000</td>\n",
              "      <td>1071.930233</td>\n",
              "      <td>609.237805</td>\n",
              "      <td>759.146341</td>\n",
              "      <td>186.146341</td>\n",
              "      <td>1772.238372</td>\n",
              "      <td>2319.585366</td>\n",
              "      <td>568.628049</td>\n",
              "      <td>1255.512195</td>\n",
              "      <td>83.042683</td>\n",
              "      <td>5530.326613</td>\n",
              "      <td>435.132075</td>\n",
              "      <td>66.261628</td>\n",
              "      <td>3.301887</td>\n",
              "      <td>2.085000</td>\n",
              "      <td>0.34000</td>\n",
              "      <td>577.691860</td>\n",
              "      <td>4734.738372</td>\n",
              "      <td>2448.697674</td>\n",
              "      <td>53794.161290</td>\n",
              "      <td>2.994186</td>\n",
              "    </tr>\n",
              "    <tr>\n",
              "      <th>std</th>\n",
              "      <td>8.289036</td>\n",
              "      <td>3.447759</td>\n",
              "      <td>113.774481</td>\n",
              "      <td>2.755357</td>\n",
              "      <td>5.861427</td>\n",
              "      <td>36.48882</td>\n",
              "      <td>127.606645</td>\n",
              "      <td>1514.220579</td>\n",
              "      <td>94.392434</td>\n",
              "      <td>54.234700</td>\n",
              "      <td>776.156561</td>\n",
              "      <td>119.765076</td>\n",
              "      <td>44.317963</td>\n",
              "      <td>789.689559</td>\n",
              "      <td>223.855243</td>\n",
              "      <td>2459.017549</td>\n",
              "      <td>297.622342</td>\n",
              "      <td>10.564894</td>\n",
              "      <td>2.634808</td>\n",
              "      <td>624.309034</td>\n",
              "      <td>6.404113</td>\n",
              "      <td>55.392367</td>\n",
              "      <td>7.767628</td>\n",
              "      <td>800.576723</td>\n",
              "      <td>4578.013053</td>\n",
              "      <td>294.852020</td>\n",
              "      <td>971.853102</td>\n",
              "      <td>268.836273</td>\n",
              "      <td>368.638776</td>\n",
              "      <td>80.247427</td>\n",
              "      <td>1964.767779</td>\n",
              "      <td>3696.725756</td>\n",
              "      <td>0.959128</td>\n",
              "      <td>43.303821</td>\n",
              "      <td>5.089646</td>\n",
              "      <td>772.093064</td>\n",
              "      <td>643.381991</td>\n",
              "      <td>246.307700</td>\n",
              "      <td>312.871487</td>\n",
              "      <td>36.221243</td>\n",
              "      <td>656.761843</td>\n",
              "      <td>650.520866</td>\n",
              "      <td>248.040620</td>\n",
              "      <td>357.035450</td>\n",
              "      <td>62.951374</td>\n",
              "      <td>1100.752625</td>\n",
              "      <td>65.353516</td>\n",
              "      <td>34.464519</td>\n",
              "      <td>2.192922</td>\n",
              "      <td>1.761616</td>\n",
              "      <td>0.63752</td>\n",
              "      <td>104.973929</td>\n",
              "      <td>3204.054864</td>\n",
              "      <td>789.689559</td>\n",
              "      <td>11039.051992</td>\n",
              "      <td>0.076138</td>\n",
              "    </tr>\n",
              "    <tr>\n",
              "      <th>min</th>\n",
              "      <td>1991.000000</td>\n",
              "      <td>1.000000</td>\n",
              "      <td>272.000000</td>\n",
              "      <td>0.000000</td>\n",
              "      <td>2.000000</td>\n",
              "      <td>10.00000</td>\n",
              "      <td>122.000000</td>\n",
              "      <td>2350.000000</td>\n",
              "      <td>188.000000</td>\n",
              "      <td>111.000000</td>\n",
              "      <td>848.000000</td>\n",
              "      <td>243.000000</td>\n",
              "      <td>49.000000</td>\n",
              "      <td>1097.000000</td>\n",
              "      <td>59.000000</td>\n",
              "      <td>688.000000</td>\n",
              "      <td>281.000000</td>\n",
              "      <td>0.000000</td>\n",
              "      <td>0.000000</td>\n",
              "      <td>0.000000</td>\n",
              "      <td>1.000000</td>\n",
              "      <td>11.000000</td>\n",
              "      <td>0.000000</td>\n",
              "      <td>81.000000</td>\n",
              "      <td>3261.000000</td>\n",
              "      <td>1159.000000</td>\n",
              "      <td>322.000000</td>\n",
              "      <td>23.000000</td>\n",
              "      <td>484.000000</td>\n",
              "      <td>0.000000</td>\n",
              "      <td>2322.000000</td>\n",
              "      <td>4691.000000</td>\n",
              "      <td>0.000000</td>\n",
              "      <td>23.000000</td>\n",
              "      <td>0.000000</td>\n",
              "      <td>717.000000</td>\n",
              "      <td>80.000000</td>\n",
              "      <td>248.000000</td>\n",
              "      <td>262.000000</td>\n",
              "      <td>114.000000</td>\n",
              "      <td>729.000000</td>\n",
              "      <td>1173.000000</td>\n",
              "      <td>225.000000</td>\n",
              "      <td>628.000000</td>\n",
              "      <td>21.000000</td>\n",
              "      <td>1409.000000</td>\n",
              "      <td>236.000000</td>\n",
              "      <td>0.000000</td>\n",
              "      <td>0.000000</td>\n",
              "      <td>0.000000</td>\n",
              "      <td>0.00000</td>\n",
              "      <td>334.000000</td>\n",
              "      <td>1086.000000</td>\n",
              "      <td>1097.000000</td>\n",
              "      <td>30621.000000</td>\n",
              "      <td>2.000000</td>\n",
              "    </tr>\n",
              "    <tr>\n",
              "      <th>25%</th>\n",
              "      <td>1998.000000</td>\n",
              "      <td>3.000000</td>\n",
              "      <td>413.750000</td>\n",
              "      <td>2.000000</td>\n",
              "      <td>11.000000</td>\n",
              "      <td>41.75000</td>\n",
              "      <td>200.000000</td>\n",
              "      <td>4067.000000</td>\n",
              "      <td>282.000000</td>\n",
              "      <td>176.000000</td>\n",
              "      <td>3040.000000</td>\n",
              "      <td>365.750000</td>\n",
              "      <td>103.750000</td>\n",
              "      <td>1889.750000</td>\n",
              "      <td>208.250000</td>\n",
              "      <td>1053.000000</td>\n",
              "      <td>430.750000</td>\n",
              "      <td>2.000000</td>\n",
              "      <td>2.000000</td>\n",
              "      <td>549.750000</td>\n",
              "      <td>6.000000</td>\n",
              "      <td>106.000000</td>\n",
              "      <td>2.250000</td>\n",
              "      <td>811.750000</td>\n",
              "      <td>5107.750000</td>\n",
              "      <td>1430.500000</td>\n",
              "      <td>732.000000</td>\n",
              "      <td>501.000000</td>\n",
              "      <td>1297.000000</td>\n",
              "      <td>3.750000</td>\n",
              "      <td>3978.000000</td>\n",
              "      <td>6700.250000</td>\n",
              "      <td>0.000000</td>\n",
              "      <td>109.750000</td>\n",
              "      <td>4.750000</td>\n",
              "      <td>1654.500000</td>\n",
              "      <td>714.500000</td>\n",
              "      <td>360.500000</td>\n",
              "      <td>426.000000</td>\n",
              "      <td>160.000000</td>\n",
              "      <td>1276.750000</td>\n",
              "      <td>1681.000000</td>\n",
              "      <td>332.500000</td>\n",
              "      <td>950.500000</td>\n",
              "      <td>46.000000</td>\n",
              "      <td>4868.500000</td>\n",
              "      <td>390.000000</td>\n",
              "      <td>42.000000</td>\n",
              "      <td>2.000000</td>\n",
              "      <td>1.000000</td>\n",
              "      <td>0.00000</td>\n",
              "      <td>500.000000</td>\n",
              "      <td>1557.000000</td>\n",
              "      <td>1889.750000</td>\n",
              "      <td>45374.500000</td>\n",
              "      <td>3.000000</td>\n",
              "    </tr>\n",
              "    <tr>\n",
              "      <th>50%</th>\n",
              "      <td>2005.000000</td>\n",
              "      <td>6.000000</td>\n",
              "      <td>507.000000</td>\n",
              "      <td>4.000000</td>\n",
              "      <td>15.000000</td>\n",
              "      <td>70.00000</td>\n",
              "      <td>318.500000</td>\n",
              "      <td>5830.500000</td>\n",
              "      <td>384.000000</td>\n",
              "      <td>203.000000</td>\n",
              "      <td>3372.000000</td>\n",
              "      <td>433.500000</td>\n",
              "      <td>125.000000</td>\n",
              "      <td>2322.000000</td>\n",
              "      <td>285.500000</td>\n",
              "      <td>2788.500000</td>\n",
              "      <td>592.000000</td>\n",
              "      <td>4.500000</td>\n",
              "      <td>3.000000</td>\n",
              "      <td>717.500000</td>\n",
              "      <td>10.000000</td>\n",
              "      <td>149.500000</td>\n",
              "      <td>13.000000</td>\n",
              "      <td>1154.000000</td>\n",
              "      <td>9243.500000</td>\n",
              "      <td>1637.500000</td>\n",
              "      <td>1076.500000</td>\n",
              "      <td>717.500000</td>\n",
              "      <td>1492.500000</td>\n",
              "      <td>158.000000</td>\n",
              "      <td>6559.000000</td>\n",
              "      <td>10448.500000</td>\n",
              "      <td>0.000000</td>\n",
              "      <td>132.500000</td>\n",
              "      <td>7.000000</td>\n",
              "      <td>2170.500000</td>\n",
              "      <td>979.500000</td>\n",
              "      <td>623.000000</td>\n",
              "      <td>815.000000</td>\n",
              "      <td>184.000000</td>\n",
              "      <td>1755.000000</td>\n",
              "      <td>2424.000000</td>\n",
              "      <td>530.000000</td>\n",
              "      <td>1259.000000</td>\n",
              "      <td>58.000000</td>\n",
              "      <td>5455.000000</td>\n",
              "      <td>427.000000</td>\n",
              "      <td>60.500000</td>\n",
              "      <td>3.000000</td>\n",
              "      <td>2.000000</td>\n",
              "      <td>0.00000</td>\n",
              "      <td>590.000000</td>\n",
              "      <td>4190.000000</td>\n",
              "      <td>2322.000000</td>\n",
              "      <td>54926.500000</td>\n",
              "      <td>3.000000</td>\n",
              "    </tr>\n",
              "    <tr>\n",
              "      <th>75%</th>\n",
              "      <td>2012.000000</td>\n",
              "      <td>9.000000</td>\n",
              "      <td>577.250000</td>\n",
              "      <td>6.000000</td>\n",
              "      <td>19.000000</td>\n",
              "      <td>96.25000</td>\n",
              "      <td>398.250000</td>\n",
              "      <td>6582.500000</td>\n",
              "      <td>441.250000</td>\n",
              "      <td>236.250000</td>\n",
              "      <td>3733.500000</td>\n",
              "      <td>536.250000</td>\n",
              "      <td>151.250000</td>\n",
              "      <td>2778.000000</td>\n",
              "      <td>401.250000</td>\n",
              "      <td>5385.250000</td>\n",
              "      <td>784.000000</td>\n",
              "      <td>14.000000</td>\n",
              "      <td>5.000000</td>\n",
              "      <td>1306.750000</td>\n",
              "      <td>15.000000</td>\n",
              "      <td>180.500000</td>\n",
              "      <td>17.000000</td>\n",
              "      <td>1635.000000</td>\n",
              "      <td>11590.500000</td>\n",
              "      <td>1833.250000</td>\n",
              "      <td>2334.250000</td>\n",
              "      <td>860.000000</td>\n",
              "      <td>1731.250000</td>\n",
              "      <td>181.500000</td>\n",
              "      <td>7601.500000</td>\n",
              "      <td>13877.500000</td>\n",
              "      <td>1.000000</td>\n",
              "      <td>152.250000</td>\n",
              "      <td>11.000000</td>\n",
              "      <td>2880.500000</td>\n",
              "      <td>1546.000000</td>\n",
              "      <td>763.500000</td>\n",
              "      <td>1045.250000</td>\n",
              "      <td>208.000000</td>\n",
              "      <td>2202.000000</td>\n",
              "      <td>2905.500000</td>\n",
              "      <td>793.500000</td>\n",
              "      <td>1515.250000</td>\n",
              "      <td>93.000000</td>\n",
              "      <td>6261.750000</td>\n",
              "      <td>481.500000</td>\n",
              "      <td>87.000000</td>\n",
              "      <td>4.000000</td>\n",
              "      <td>3.000000</td>\n",
              "      <td>1.00000</td>\n",
              "      <td>649.000000</td>\n",
              "      <td>6872.750000</td>\n",
              "      <td>2778.000000</td>\n",
              "      <td>63292.500000</td>\n",
              "      <td>3.000000</td>\n",
              "    </tr>\n",
              "    <tr>\n",
              "      <th>max</th>\n",
              "      <td>2019.000000</td>\n",
              "      <td>12.000000</td>\n",
              "      <td>831.000000</td>\n",
              "      <td>21.000000</td>\n",
              "      <td>36.000000</td>\n",
              "      <td>194.00000</td>\n",
              "      <td>645.000000</td>\n",
              "      <td>9050.000000</td>\n",
              "      <td>561.000000</td>\n",
              "      <td>449.000000</td>\n",
              "      <td>6653.000000</td>\n",
              "      <td>914.000000</td>\n",
              "      <td>300.000000</td>\n",
              "      <td>5358.000000</td>\n",
              "      <td>1329.000000</td>\n",
              "      <td>9669.000000</td>\n",
              "      <td>1628.000000</td>\n",
              "      <td>54.000000</td>\n",
              "      <td>12.000000</td>\n",
              "      <td>2626.000000</td>\n",
              "      <td>37.000000</td>\n",
              "      <td>283.000000</td>\n",
              "      <td>26.000000</td>\n",
              "      <td>3661.000000</td>\n",
              "      <td>23203.000000</td>\n",
              "      <td>2630.000000</td>\n",
              "      <td>5368.000000</td>\n",
              "      <td>1036.000000</td>\n",
              "      <td>2215.000000</td>\n",
              "      <td>243.000000</td>\n",
              "      <td>9880.000000</td>\n",
              "      <td>18003.000000</td>\n",
              "      <td>5.000000</td>\n",
              "      <td>271.000000</td>\n",
              "      <td>31.000000</td>\n",
              "      <td>3627.000000</td>\n",
              "      <td>2543.000000</td>\n",
              "      <td>1160.000000</td>\n",
              "      <td>1282.000000</td>\n",
              "      <td>289.000000</td>\n",
              "      <td>3695.000000</td>\n",
              "      <td>3425.000000</td>\n",
              "      <td>1114.000000</td>\n",
              "      <td>2314.000000</td>\n",
              "      <td>350.000000</td>\n",
              "      <td>9034.000000</td>\n",
              "      <td>628.000000</td>\n",
              "      <td>217.000000</td>\n",
              "      <td>13.000000</td>\n",
              "      <td>10.000000</td>\n",
              "      <td>3.00000</td>\n",
              "      <td>848.000000</td>\n",
              "      <td>13833.000000</td>\n",
              "      <td>5358.000000</td>\n",
              "      <td>75403.000000</td>\n",
              "      <td>3.000000</td>\n",
              "    </tr>\n",
              "  </tbody>\n",
              "</table>\n",
              "</div>"
            ],
            "text/plain": [
              "              vano         mes  ...  registro_ocorrencias        fase\n",
              "count   344.000000  344.000000  ...            248.000000  344.000000\n",
              "mean   2004.837209    6.453488  ...          53794.161290    2.994186\n",
              "std       8.289036    3.447759  ...          11039.051992    0.076138\n",
              "min    1991.000000    1.000000  ...          30621.000000    2.000000\n",
              "25%    1998.000000    3.000000  ...          45374.500000    3.000000\n",
              "50%    2005.000000    6.000000  ...          54926.500000    3.000000\n",
              "75%    2012.000000    9.000000  ...          63292.500000    3.000000\n",
              "max    2019.000000   12.000000  ...          75403.000000    3.000000\n",
              "\n",
              "[8 rows x 56 columns]"
            ]
          },
          "metadata": {
            "tags": []
          },
          "execution_count": 9
        }
      ]
    },
    {
      "cell_type": "code",
      "metadata": {
        "id": "JgVmLnilmRDc",
        "colab_type": "code",
        "colab": {
          "base_uri": "https://localhost:8080/",
          "height": 34
        },
        "outputId": "f85d1883-25ff-4c41-c04e-d5ebd8d921f4"
      },
      "source": [
        "df.roubo_veiculo.mean()"
      ],
      "execution_count": 10,
      "outputs": [
        {
          "output_type": "execute_result",
          "data": {
            "text/plain": [
              "2448.6976744186045"
            ]
          },
          "metadata": {
            "tags": []
          },
          "execution_count": 10
        }
      ]
    },
    {
      "cell_type": "code",
      "metadata": {
        "id": "GZrNoIxkmVit",
        "colab_type": "code",
        "colab": {
          "base_uri": "https://localhost:8080/",
          "height": 34
        },
        "outputId": "1c98a7d6-aae8-4ced-f5b4-d75c2f7690c5"
      },
      "source": [
        "df.furto_veiculos.mean()"
      ],
      "execution_count": 11,
      "outputs": [
        {
          "output_type": "execute_result",
          "data": {
            "text/plain": [
              "1674.671511627907"
            ]
          },
          "metadata": {
            "tags": []
          },
          "execution_count": 11
        }
      ]
    },
    {
      "cell_type": "code",
      "metadata": {
        "id": "ijjwWHjCmVHz",
        "colab_type": "code",
        "colab": {
          "base_uri": "https://localhost:8080/",
          "height": 34
        },
        "outputId": "cd842d70-b991-43d3-8373-4c366572de42"
      },
      "source": [
        "df.recuperacao_veiculos.mean()"
      ],
      "execution_count": 12,
      "outputs": [
        {
          "output_type": "execute_result",
          "data": {
            "text/plain": [
              "1772.2383720930231"
            ]
          },
          "metadata": {
            "tags": []
          },
          "execution_count": 12
        }
      ]
    },
    {
      "cell_type": "code",
      "metadata": {
        "id": "3HQO1EIQXGr9",
        "colab_type": "code",
        "colab": {
          "base_uri": "https://localhost:8080/",
          "height": 170
        },
        "outputId": "70c0527e-e4cb-463c-bb2c-7f1a2bddab8d"
      },
      "source": [
        "df['Recuperacao_pct']= df['recuperacao_veiculos']/(df['roubo_veiculo'] + df['furto_veiculos'])\n",
        "df['Recuperacao_pct'].describe()"
      ],
      "execution_count": 13,
      "outputs": [
        {
          "output_type": "execute_result",
          "data": {
            "text/plain": [
              "count    344.000000\n",
              "mean       0.423180\n",
              "std        0.109890\n",
              "min        0.181660\n",
              "25%        0.314378\n",
              "50%        0.454808\n",
              "75%        0.505522\n",
              "max        0.634514\n",
              "Name: Recuperacao_pct, dtype: float64"
            ]
          },
          "metadata": {
            "tags": []
          },
          "execution_count": 13
        }
      ]
    },
    {
      "cell_type": "markdown",
      "metadata": {
        "id": "MxZq8MUhZnqy",
        "colab_type": "text"
      },
      "source": [
        "Temos que , em média, 42% dos veículos que são roubados ou furtados são recuperados, o que não é uma taxa ruim dada a extensão do estado do Rio."
      ]
    },
    {
      "cell_type": "code",
      "metadata": {
        "id": "dfQtyxByZJSC",
        "colab_type": "code",
        "colab": {
          "base_uri": "https://localhost:8080/",
          "height": 51
        },
        "outputId": "e09799da-7832-4349-c422-d8a81707aea0"
      },
      "source": [
        "max_hom_doloso = df.hom_doloso.max()\n",
        "min_hom_doloso = df.hom_doloso.min()\n",
        "\n",
        "\n",
        "print(\"Min:\\t{}\".format(min_hom_doloso))\n",
        "print(\"Max:\\t{}\".format(max_hom_doloso))"
      ],
      "execution_count": 14,
      "outputs": [
        {
          "output_type": "stream",
          "text": [
            "Min:\t272\n",
            "Max:\t831\n"
          ],
          "name": "stdout"
        }
      ]
    },
    {
      "cell_type": "markdown",
      "metadata": {
        "id": "Rpyk74kNZLLh",
        "colab_type": "text"
      },
      "source": [
        "No mês que foram registrados menos homicídios dolosos nos últimos 30 anos foram 272 mortos! isso equivale a mais de 9 pessoas assassinadas por dia no \"melhor mês\". Enquanto no pior mês ocorreram mais de 27 homicídios por dia"
      ]
    },
    {
      "cell_type": "markdown",
      "metadata": {
        "id": "7WK0NBQZASKC",
        "colab_type": "text"
      },
      "source": [
        "## Visualização de Dados\n",
        "\n",
        "Para um melhor entendimento sobre como a variação ocorre ao passar dos anos , vamos recorrer à análise gráfica de algumas dessas variáveis:\n"
      ]
    },
    {
      "cell_type": "code",
      "metadata": {
        "id": "sgaEnujRbJHe",
        "colab_type": "code",
        "colab": {
          "base_uri": "https://localhost:8080/",
          "height": 268
        },
        "outputId": "c5bab6aa-8d00-412d-c2e1-3118b0f73708"
      },
      "source": [
        "df.hom_doloso.hist(bins=20)\n",
        "plt.show()"
      ],
      "execution_count": 15,
      "outputs": [
        {
          "output_type": "display_data",
          "data": {
            "image/png": "[encoded data removed]",
            "text/plain": [
              "<Figure size 432x288 with 1 Axes>"
            ]
          },
          "metadata": {
            "tags": [],
            "needs_background": "light"
          }
        }
      ]
    },
    {
      "cell_type": "markdown",
      "metadata": {
        "id": "8DLJNuUejbOK",
        "colab_type": "text"
      },
      "source": [
        "Podemos observar que na maioria dos meses do dataset ocorreram entre 350 e 600 homicídios dolosos , vamos checar os meses em que houveram mais de 750 homicídios para checar se há alguma ligação entre eles."
      ]
    },
    {
      "cell_type": "code",
      "metadata": {
        "id": "RKdj5w21jz82",
        "colab_type": "code",
        "colab": {
          "base_uri": "https://localhost:8080/",
          "height": 348
        },
        "outputId": "c33f470c-ce2b-4c6d-fa80-a0e5cb737e05"
      },
      "source": [
        "df[df['hom_doloso']>750]"
      ],
      "execution_count": 16,
      "outputs": [
        {
          "output_type": "execute_result",
          "data": {
            "text/html": [
              "<div>\n",
              "<style scoped>\n",
              "    .dataframe tbody tr th:only-of-type {\n",
              "        vertical-align: middle;\n",
              "    }\n",
              "\n",
              "    .dataframe tbody tr th {\n",
              "        vertical-align: top;\n",
              "    }\n",
              "\n",
              "    .dataframe thead th {\n",
              "        text-align: right;\n",
              "    }\n",
              "</style>\n",
              "<table border=\"1\" class=\"dataframe\">\n",
              "  <thead>\n",
              "    <tr style=\"text-align: right;\">\n",
              "      <th></th>\n",
              "      <th>vano</th>\n",
              "      <th>mes</th>\n",
              "      <th>hom_doloso</th>\n",
              "      <th>lesao_corp_morte</th>\n",
              "      <th>latrocinio</th>\n",
              "      <th>hom_por_interv_policial</th>\n",
              "      <th>tentat_hom</th>\n",
              "      <th>lesao_corp_dolosa</th>\n",
              "      <th>estupro</th>\n",
              "      <th>hom_culposo</th>\n",
              "      <th>lesao_corp_culposa</th>\n",
              "      <th>roubo_comercio</th>\n",
              "      <th>roubo_residencia</th>\n",
              "      <th>roubo_veiculo</th>\n",
              "      <th>roubo_carga</th>\n",
              "      <th>roubo_transeunte</th>\n",
              "      <th>roubo_em_coletivo</th>\n",
              "      <th>roubo_banco</th>\n",
              "      <th>roubo_cx_eletronico</th>\n",
              "      <th>roubo_celular</th>\n",
              "      <th>roubo_conducao_saque</th>\n",
              "      <th>roubo_apos_saque</th>\n",
              "      <th>roubo_bicicleta</th>\n",
              "      <th>outros_roubos</th>\n",
              "      <th>total_roubos</th>\n",
              "      <th>furto_veiculos</th>\n",
              "      <th>furto_transeunte</th>\n",
              "      <th>furto_coletivo</th>\n",
              "      <th>furto_celular</th>\n",
              "      <th>furto_bicicleta</th>\n",
              "      <th>outros_furtos</th>\n",
              "      <th>total_furtos</th>\n",
              "      <th>sequestro</th>\n",
              "      <th>extorsao</th>\n",
              "      <th>sequestro_relampago</th>\n",
              "      <th>estelionato</th>\n",
              "      <th>apreensao_drogas</th>\n",
              "      <th>posse_drogas</th>\n",
              "      <th>trafico_drogas</th>\n",
              "      <th>apreensao_drogas_sem_autor</th>\n",
              "      <th>recuperacao_veiculos</th>\n",
              "      <th>apf</th>\n",
              "      <th>aaapai</th>\n",
              "      <th>cmp</th>\n",
              "      <th>cmba</th>\n",
              "      <th>ameaca</th>\n",
              "      <th>pessoas_desaparecidas</th>\n",
              "      <th>encontro_cadaver</th>\n",
              "      <th>encontro_ossada</th>\n",
              "      <th>pol_militares_mortos_serv</th>\n",
              "      <th>pol_civis_mortos_serv</th>\n",
              "      <th>indicador_letalidade</th>\n",
              "      <th>indicador_roubo_rua</th>\n",
              "      <th>indicador_roubo_veic</th>\n",
              "      <th>registro_ocorrencias</th>\n",
              "      <th>fase</th>\n",
              "      <th>Recuperacao_pct</th>\n",
              "    </tr>\n",
              "  </thead>\n",
              "  <tbody>\n",
              "    <tr>\n",
              "      <th>14</th>\n",
              "      <td>1992</td>\n",
              "      <td>3</td>\n",
              "      <td>767</td>\n",
              "      <td>NaN</td>\n",
              "      <td>12</td>\n",
              "      <td>NaN</td>\n",
              "      <td>181</td>\n",
              "      <td>3732</td>\n",
              "      <td>NaN</td>\n",
              "      <td>NaN</td>\n",
              "      <td>NaN</td>\n",
              "      <td>559</td>\n",
              "      <td>250</td>\n",
              "      <td>1825</td>\n",
              "      <td>172</td>\n",
              "      <td>1069</td>\n",
              "      <td>426</td>\n",
              "      <td>27</td>\n",
              "      <td>NaN</td>\n",
              "      <td>NaN</td>\n",
              "      <td>NaN</td>\n",
              "      <td>NaN</td>\n",
              "      <td>NaN</td>\n",
              "      <td>82</td>\n",
              "      <td>4410</td>\n",
              "      <td>2241</td>\n",
              "      <td>939</td>\n",
              "      <td>NaN</td>\n",
              "      <td>NaN</td>\n",
              "      <td>NaN</td>\n",
              "      <td>3983</td>\n",
              "      <td>7163</td>\n",
              "      <td>NaN</td>\n",
              "      <td>NaN</td>\n",
              "      <td>NaN</td>\n",
              "      <td>NaN</td>\n",
              "      <td>179</td>\n",
              "      <td>NaN</td>\n",
              "      <td>NaN</td>\n",
              "      <td>NaN</td>\n",
              "      <td>951</td>\n",
              "      <td>NaN</td>\n",
              "      <td>NaN</td>\n",
              "      <td>NaN</td>\n",
              "      <td>NaN</td>\n",
              "      <td>NaN</td>\n",
              "      <td>NaN</td>\n",
              "      <td>72</td>\n",
              "      <td>NaN</td>\n",
              "      <td>NaN</td>\n",
              "      <td>NaN</td>\n",
              "      <td>779</td>\n",
              "      <td>1495</td>\n",
              "      <td>1825</td>\n",
              "      <td>NaN</td>\n",
              "      <td>3</td>\n",
              "      <td>0.233891</td>\n",
              "    </tr>\n",
              "    <tr>\n",
              "      <th>26</th>\n",
              "      <td>1993</td>\n",
              "      <td>3</td>\n",
              "      <td>755</td>\n",
              "      <td>NaN</td>\n",
              "      <td>18</td>\n",
              "      <td>NaN</td>\n",
              "      <td>169</td>\n",
              "      <td>3434</td>\n",
              "      <td>NaN</td>\n",
              "      <td>NaN</td>\n",
              "      <td>NaN</td>\n",
              "      <td>337</td>\n",
              "      <td>218</td>\n",
              "      <td>2289</td>\n",
              "      <td>146</td>\n",
              "      <td>735</td>\n",
              "      <td>450</td>\n",
              "      <td>13</td>\n",
              "      <td>NaN</td>\n",
              "      <td>NaN</td>\n",
              "      <td>NaN</td>\n",
              "      <td>NaN</td>\n",
              "      <td>NaN</td>\n",
              "      <td>161</td>\n",
              "      <td>4349</td>\n",
              "      <td>2458</td>\n",
              "      <td>636</td>\n",
              "      <td>NaN</td>\n",
              "      <td>NaN</td>\n",
              "      <td>NaN</td>\n",
              "      <td>3809</td>\n",
              "      <td>6903</td>\n",
              "      <td>NaN</td>\n",
              "      <td>NaN</td>\n",
              "      <td>NaN</td>\n",
              "      <td>NaN</td>\n",
              "      <td>164</td>\n",
              "      <td>NaN</td>\n",
              "      <td>NaN</td>\n",
              "      <td>NaN</td>\n",
              "      <td>869</td>\n",
              "      <td>NaN</td>\n",
              "      <td>NaN</td>\n",
              "      <td>NaN</td>\n",
              "      <td>NaN</td>\n",
              "      <td>NaN</td>\n",
              "      <td>NaN</td>\n",
              "      <td>76</td>\n",
              "      <td>NaN</td>\n",
              "      <td>NaN</td>\n",
              "      <td>NaN</td>\n",
              "      <td>773</td>\n",
              "      <td>1185</td>\n",
              "      <td>2289</td>\n",
              "      <td>NaN</td>\n",
              "      <td>3</td>\n",
              "      <td>0.183063</td>\n",
              "    </tr>\n",
              "    <tr>\n",
              "      <th>45</th>\n",
              "      <td>1994</td>\n",
              "      <td>10</td>\n",
              "      <td>761</td>\n",
              "      <td>NaN</td>\n",
              "      <td>8</td>\n",
              "      <td>NaN</td>\n",
              "      <td>177</td>\n",
              "      <td>3122</td>\n",
              "      <td>NaN</td>\n",
              "      <td>NaN</td>\n",
              "      <td>NaN</td>\n",
              "      <td>302</td>\n",
              "      <td>144</td>\n",
              "      <td>2361</td>\n",
              "      <td>102</td>\n",
              "      <td>897</td>\n",
              "      <td>331</td>\n",
              "      <td>44</td>\n",
              "      <td>NaN</td>\n",
              "      <td>NaN</td>\n",
              "      <td>NaN</td>\n",
              "      <td>NaN</td>\n",
              "      <td>NaN</td>\n",
              "      <td>111</td>\n",
              "      <td>4292</td>\n",
              "      <td>2068</td>\n",
              "      <td>475</td>\n",
              "      <td>NaN</td>\n",
              "      <td>NaN</td>\n",
              "      <td>NaN</td>\n",
              "      <td>2719</td>\n",
              "      <td>5262</td>\n",
              "      <td>NaN</td>\n",
              "      <td>NaN</td>\n",
              "      <td>NaN</td>\n",
              "      <td>NaN</td>\n",
              "      <td>152</td>\n",
              "      <td>NaN</td>\n",
              "      <td>NaN</td>\n",
              "      <td>NaN</td>\n",
              "      <td>1483</td>\n",
              "      <td>NaN</td>\n",
              "      <td>NaN</td>\n",
              "      <td>NaN</td>\n",
              "      <td>NaN</td>\n",
              "      <td>NaN</td>\n",
              "      <td>NaN</td>\n",
              "      <td>83</td>\n",
              "      <td>NaN</td>\n",
              "      <td>NaN</td>\n",
              "      <td>NaN</td>\n",
              "      <td>769</td>\n",
              "      <td>1228</td>\n",
              "      <td>2361</td>\n",
              "      <td>NaN</td>\n",
              "      <td>3</td>\n",
              "      <td>0.334839</td>\n",
              "    </tr>\n",
              "    <tr>\n",
              "      <th>47</th>\n",
              "      <td>1994</td>\n",
              "      <td>12</td>\n",
              "      <td>826</td>\n",
              "      <td>NaN</td>\n",
              "      <td>21</td>\n",
              "      <td>NaN</td>\n",
              "      <td>196</td>\n",
              "      <td>3550</td>\n",
              "      <td>NaN</td>\n",
              "      <td>NaN</td>\n",
              "      <td>NaN</td>\n",
              "      <td>293</td>\n",
              "      <td>165</td>\n",
              "      <td>2012</td>\n",
              "      <td>189</td>\n",
              "      <td>1045</td>\n",
              "      <td>406</td>\n",
              "      <td>42</td>\n",
              "      <td>NaN</td>\n",
              "      <td>NaN</td>\n",
              "      <td>NaN</td>\n",
              "      <td>NaN</td>\n",
              "      <td>NaN</td>\n",
              "      <td>159</td>\n",
              "      <td>4311</td>\n",
              "      <td>1679</td>\n",
              "      <td>571</td>\n",
              "      <td>NaN</td>\n",
              "      <td>NaN</td>\n",
              "      <td>NaN</td>\n",
              "      <td>2712</td>\n",
              "      <td>4962</td>\n",
              "      <td>NaN</td>\n",
              "      <td>NaN</td>\n",
              "      <td>NaN</td>\n",
              "      <td>NaN</td>\n",
              "      <td>143</td>\n",
              "      <td>NaN</td>\n",
              "      <td>NaN</td>\n",
              "      <td>NaN</td>\n",
              "      <td>1480</td>\n",
              "      <td>NaN</td>\n",
              "      <td>NaN</td>\n",
              "      <td>NaN</td>\n",
              "      <td>NaN</td>\n",
              "      <td>NaN</td>\n",
              "      <td>NaN</td>\n",
              "      <td>98</td>\n",
              "      <td>NaN</td>\n",
              "      <td>NaN</td>\n",
              "      <td>NaN</td>\n",
              "      <td>847</td>\n",
              "      <td>1451</td>\n",
              "      <td>2012</td>\n",
              "      <td>NaN</td>\n",
              "      <td>3</td>\n",
              "      <td>0.400975</td>\n",
              "    </tr>\n",
              "    <tr>\n",
              "      <th>48</th>\n",
              "      <td>1995</td>\n",
              "      <td>1</td>\n",
              "      <td>831</td>\n",
              "      <td>NaN</td>\n",
              "      <td>17</td>\n",
              "      <td>NaN</td>\n",
              "      <td>166</td>\n",
              "      <td>3626</td>\n",
              "      <td>NaN</td>\n",
              "      <td>NaN</td>\n",
              "      <td>NaN</td>\n",
              "      <td>323</td>\n",
              "      <td>174</td>\n",
              "      <td>2060</td>\n",
              "      <td>188</td>\n",
              "      <td>1056</td>\n",
              "      <td>377</td>\n",
              "      <td>38</td>\n",
              "      <td>NaN</td>\n",
              "      <td>NaN</td>\n",
              "      <td>NaN</td>\n",
              "      <td>NaN</td>\n",
              "      <td>NaN</td>\n",
              "      <td>134</td>\n",
              "      <td>4350</td>\n",
              "      <td>1924</td>\n",
              "      <td>520</td>\n",
              "      <td>NaN</td>\n",
              "      <td>NaN</td>\n",
              "      <td>NaN</td>\n",
              "      <td>2941</td>\n",
              "      <td>5385</td>\n",
              "      <td>NaN</td>\n",
              "      <td>NaN</td>\n",
              "      <td>NaN</td>\n",
              "      <td>NaN</td>\n",
              "      <td>147</td>\n",
              "      <td>NaN</td>\n",
              "      <td>NaN</td>\n",
              "      <td>NaN</td>\n",
              "      <td>1435</td>\n",
              "      <td>NaN</td>\n",
              "      <td>NaN</td>\n",
              "      <td>NaN</td>\n",
              "      <td>NaN</td>\n",
              "      <td>NaN</td>\n",
              "      <td>NaN</td>\n",
              "      <td>98</td>\n",
              "      <td>NaN</td>\n",
              "      <td>NaN</td>\n",
              "      <td>NaN</td>\n",
              "      <td>848</td>\n",
              "      <td>1433</td>\n",
              "      <td>2060</td>\n",
              "      <td>NaN</td>\n",
              "      <td>3</td>\n",
              "      <td>0.360191</td>\n",
              "    </tr>\n",
              "    <tr>\n",
              "      <th>49</th>\n",
              "      <td>1995</td>\n",
              "      <td>2</td>\n",
              "      <td>814</td>\n",
              "      <td>NaN</td>\n",
              "      <td>16</td>\n",
              "      <td>NaN</td>\n",
              "      <td>179</td>\n",
              "      <td>3286</td>\n",
              "      <td>NaN</td>\n",
              "      <td>NaN</td>\n",
              "      <td>NaN</td>\n",
              "      <td>294</td>\n",
              "      <td>144</td>\n",
              "      <td>1876</td>\n",
              "      <td>118</td>\n",
              "      <td>981</td>\n",
              "      <td>350</td>\n",
              "      <td>32</td>\n",
              "      <td>NaN</td>\n",
              "      <td>NaN</td>\n",
              "      <td>NaN</td>\n",
              "      <td>NaN</td>\n",
              "      <td>NaN</td>\n",
              "      <td>152</td>\n",
              "      <td>3947</td>\n",
              "      <td>1737</td>\n",
              "      <td>465</td>\n",
              "      <td>NaN</td>\n",
              "      <td>NaN</td>\n",
              "      <td>NaN</td>\n",
              "      <td>2519</td>\n",
              "      <td>4721</td>\n",
              "      <td>NaN</td>\n",
              "      <td>NaN</td>\n",
              "      <td>NaN</td>\n",
              "      <td>NaN</td>\n",
              "      <td>194</td>\n",
              "      <td>NaN</td>\n",
              "      <td>NaN</td>\n",
              "      <td>NaN</td>\n",
              "      <td>1293</td>\n",
              "      <td>NaN</td>\n",
              "      <td>NaN</td>\n",
              "      <td>NaN</td>\n",
              "      <td>NaN</td>\n",
              "      <td>NaN</td>\n",
              "      <td>NaN</td>\n",
              "      <td>78</td>\n",
              "      <td>NaN</td>\n",
              "      <td>NaN</td>\n",
              "      <td>NaN</td>\n",
              "      <td>830</td>\n",
              "      <td>1331</td>\n",
              "      <td>1876</td>\n",
              "      <td>NaN</td>\n",
              "      <td>3</td>\n",
              "      <td>0.357874</td>\n",
              "    </tr>\n",
              "    <tr>\n",
              "      <th>50</th>\n",
              "      <td>1995</td>\n",
              "      <td>3</td>\n",
              "      <td>756</td>\n",
              "      <td>NaN</td>\n",
              "      <td>17</td>\n",
              "      <td>NaN</td>\n",
              "      <td>168</td>\n",
              "      <td>3258</td>\n",
              "      <td>NaN</td>\n",
              "      <td>NaN</td>\n",
              "      <td>NaN</td>\n",
              "      <td>352</td>\n",
              "      <td>159</td>\n",
              "      <td>2271</td>\n",
              "      <td>160</td>\n",
              "      <td>976</td>\n",
              "      <td>413</td>\n",
              "      <td>26</td>\n",
              "      <td>NaN</td>\n",
              "      <td>NaN</td>\n",
              "      <td>NaN</td>\n",
              "      <td>NaN</td>\n",
              "      <td>NaN</td>\n",
              "      <td>190</td>\n",
              "      <td>4547</td>\n",
              "      <td>2135</td>\n",
              "      <td>457</td>\n",
              "      <td>NaN</td>\n",
              "      <td>NaN</td>\n",
              "      <td>NaN</td>\n",
              "      <td>2889</td>\n",
              "      <td>5481</td>\n",
              "      <td>NaN</td>\n",
              "      <td>NaN</td>\n",
              "      <td>NaN</td>\n",
              "      <td>NaN</td>\n",
              "      <td>181</td>\n",
              "      <td>NaN</td>\n",
              "      <td>NaN</td>\n",
              "      <td>NaN</td>\n",
              "      <td>1491</td>\n",
              "      <td>NaN</td>\n",
              "      <td>NaN</td>\n",
              "      <td>NaN</td>\n",
              "      <td>NaN</td>\n",
              "      <td>NaN</td>\n",
              "      <td>NaN</td>\n",
              "      <td>69</td>\n",
              "      <td>NaN</td>\n",
              "      <td>NaN</td>\n",
              "      <td>NaN</td>\n",
              "      <td>773</td>\n",
              "      <td>1389</td>\n",
              "      <td>2271</td>\n",
              "      <td>NaN</td>\n",
              "      <td>3</td>\n",
              "      <td>0.338402</td>\n",
              "    </tr>\n",
              "    <tr>\n",
              "      <th>51</th>\n",
              "      <td>1995</td>\n",
              "      <td>4</td>\n",
              "      <td>788</td>\n",
              "      <td>NaN</td>\n",
              "      <td>20</td>\n",
              "      <td>NaN</td>\n",
              "      <td>170</td>\n",
              "      <td>3028</td>\n",
              "      <td>NaN</td>\n",
              "      <td>NaN</td>\n",
              "      <td>NaN</td>\n",
              "      <td>315</td>\n",
              "      <td>150</td>\n",
              "      <td>2293</td>\n",
              "      <td>86</td>\n",
              "      <td>1033</td>\n",
              "      <td>426</td>\n",
              "      <td>37</td>\n",
              "      <td>NaN</td>\n",
              "      <td>NaN</td>\n",
              "      <td>NaN</td>\n",
              "      <td>NaN</td>\n",
              "      <td>NaN</td>\n",
              "      <td>176</td>\n",
              "      <td>4516</td>\n",
              "      <td>1842</td>\n",
              "      <td>440</td>\n",
              "      <td>NaN</td>\n",
              "      <td>NaN</td>\n",
              "      <td>NaN</td>\n",
              "      <td>2556</td>\n",
              "      <td>4838</td>\n",
              "      <td>NaN</td>\n",
              "      <td>NaN</td>\n",
              "      <td>NaN</td>\n",
              "      <td>NaN</td>\n",
              "      <td>230</td>\n",
              "      <td>NaN</td>\n",
              "      <td>NaN</td>\n",
              "      <td>NaN</td>\n",
              "      <td>1496</td>\n",
              "      <td>NaN</td>\n",
              "      <td>NaN</td>\n",
              "      <td>NaN</td>\n",
              "      <td>NaN</td>\n",
              "      <td>NaN</td>\n",
              "      <td>NaN</td>\n",
              "      <td>93</td>\n",
              "      <td>NaN</td>\n",
              "      <td>NaN</td>\n",
              "      <td>NaN</td>\n",
              "      <td>808</td>\n",
              "      <td>1459</td>\n",
              "      <td>2293</td>\n",
              "      <td>NaN</td>\n",
              "      <td>3</td>\n",
              "      <td>0.361790</td>\n",
              "    </tr>\n",
              "    <tr>\n",
              "      <th>52</th>\n",
              "      <td>1995</td>\n",
              "      <td>5</td>\n",
              "      <td>784</td>\n",
              "      <td>NaN</td>\n",
              "      <td>19</td>\n",
              "      <td>NaN</td>\n",
              "      <td>149</td>\n",
              "      <td>2864</td>\n",
              "      <td>NaN</td>\n",
              "      <td>NaN</td>\n",
              "      <td>NaN</td>\n",
              "      <td>322</td>\n",
              "      <td>158</td>\n",
              "      <td>2178</td>\n",
              "      <td>101</td>\n",
              "      <td>1021</td>\n",
              "      <td>415</td>\n",
              "      <td>26</td>\n",
              "      <td>NaN</td>\n",
              "      <td>NaN</td>\n",
              "      <td>NaN</td>\n",
              "      <td>NaN</td>\n",
              "      <td>NaN</td>\n",
              "      <td>169</td>\n",
              "      <td>4390</td>\n",
              "      <td>1843</td>\n",
              "      <td>441</td>\n",
              "      <td>NaN</td>\n",
              "      <td>NaN</td>\n",
              "      <td>NaN</td>\n",
              "      <td>2815</td>\n",
              "      <td>5099</td>\n",
              "      <td>NaN</td>\n",
              "      <td>NaN</td>\n",
              "      <td>NaN</td>\n",
              "      <td>NaN</td>\n",
              "      <td>192</td>\n",
              "      <td>NaN</td>\n",
              "      <td>NaN</td>\n",
              "      <td>NaN</td>\n",
              "      <td>1615</td>\n",
              "      <td>NaN</td>\n",
              "      <td>NaN</td>\n",
              "      <td>NaN</td>\n",
              "      <td>NaN</td>\n",
              "      <td>NaN</td>\n",
              "      <td>NaN</td>\n",
              "      <td>89</td>\n",
              "      <td>NaN</td>\n",
              "      <td>NaN</td>\n",
              "      <td>NaN</td>\n",
              "      <td>803</td>\n",
              "      <td>1436</td>\n",
              "      <td>2178</td>\n",
              "      <td>NaN</td>\n",
              "      <td>3</td>\n",
              "      <td>0.401641</td>\n",
              "    </tr>\n",
              "  </tbody>\n",
              "</table>\n",
              "</div>"
            ],
            "text/plain": [
              "    vano  mes  hom_doloso  ...  registro_ocorrencias  fase  Recuperacao_pct\n",
              "14  1992    3         767  ...                   NaN     3         0.233891\n",
              "26  1993    3         755  ...                   NaN     3         0.183063\n",
              "45  1994   10         761  ...                   NaN     3         0.334839\n",
              "47  1994   12         826  ...                   NaN     3         0.400975\n",
              "48  1995    1         831  ...                   NaN     3         0.360191\n",
              "49  1995    2         814  ...                   NaN     3         0.357874\n",
              "50  1995    3         756  ...                   NaN     3         0.338402\n",
              "51  1995    4         788  ...                   NaN     3         0.361790\n",
              "52  1995    5         784  ...                   NaN     3         0.401641\n",
              "\n",
              "[9 rows x 57 columns]"
            ]
          },
          "metadata": {
            "tags": []
          },
          "execution_count": 16
        }
      ]
    },
    {
      "cell_type": "markdown",
      "metadata": {
        "id": "xv5mCjEEkEAk",
        "colab_type": "text"
      },
      "source": [
        "Percebemos que os meses com maior número de homicídios se encontram no final de 1994 e começo de 1995, de acordo com notícias da época e atuais relembrando sobre a época temos que foi um período marcado por chacinas (como a de Nova Brasília) e violência sempre acaba por gerar mais violência, seja pela parte policial ou pela parte criminosa. O Rio passou por uma crise de violência jamais vista e o Estado demorou para conseguir controlar a situação."
      ]
    },
    {
      "cell_type": "code",
      "metadata": {
        "id": "KrLrxO7RbJFI",
        "colab_type": "code",
        "colab": {
          "base_uri": "https://localhost:8080/",
          "height": 377
        },
        "outputId": "1bf948c3-05a6-4c6a-ff2d-a3a6c2e3dab1"
      },
      "source": [
        "df.hom_doloso.plot(figsize=(15,6))\n",
        "plt.show()"
      ],
      "execution_count": 17,
      "outputs": [
        {
          "output_type": "display_data",
          "data": {
            "image/png": "[encoded data removed]",
            "text/plain": [
              "<Figure size 1080x432 with 1 Axes>"
            ]
          },
          "metadata": {
            "tags": [],
            "needs_background": "light"
          }
        }
      ]
    },
    {
      "cell_type": "markdown",
      "metadata": {
        "id": "U_PyYtKqmqPi",
        "colab_type": "text"
      },
      "source": [
        "Lembrando que cada unidade no eixo `x` se refere a um mês, pelos primeiros 50 pontos podemos checar a a crise criminal do período de 1991 a 1995 onde o pico desse intervalo mostra o ápice evidenciado no comentário anterior."
      ]
    },
    {
      "cell_type": "markdown",
      "metadata": {
        "id": "BUONCth5nrJB",
        "colab_type": "text"
      },
      "source": [
        "Agora iremos recorrer aos dados referentes a ocorrências envolvendo veículos:"
      ]
    },
    {
      "cell_type": "code",
      "metadata": {
        "id": "9T-PJJBvnzIv",
        "colab_type": "code",
        "colab": {
          "base_uri": "https://localhost:8080/",
          "height": 377
        },
        "outputId": "738cb6e0-2853-44bb-ec66-4109b503068f"
      },
      "source": [
        "df.plot(y=['roubo_veiculo','furto_veiculos'],figsize=(15,6))\n",
        "plt.show()"
      ],
      "execution_count": 18,
      "outputs": [
        {
          "output_type": "display_data",
          "data": {
            "image/png": "[encoded data removed]",
            "text/plain": [
              "<Figure size 1080x432 with 1 Axes>"
            ]
          },
          "metadata": {
            "tags": [],
            "needs_background": "light"
          }
        }
      ]
    },
    {
      "cell_type": "markdown",
      "metadata": {
        "id": "xC2wGIG9pBa5",
        "colab_type": "text"
      },
      "source": [
        "Os índices de furto de veículos tendem a diminuir com o passar do tempo, isso ocorre devido à sofistificação da tecnologia quanto a segurança de veículos, como em alarmes e mecanismos de trancamento mais complexos. Por outro lado , o roubo teve um aumento considerável nos últimos anos seguido de leves declíneos."
      ]
    },
    {
      "cell_type": "code",
      "metadata": {
        "id": "oCrgaqknbJC6",
        "colab_type": "code",
        "colab": {
          "base_uri": "https://localhost:8080/",
          "height": 377
        },
        "outputId": "baa04cd6-779b-4a3a-8df7-94e3658f7839"
      },
      "source": [
        "df.Recuperacao_pct.plot(figsize=(15,6))\n",
        "plt.show()"
      ],
      "execution_count": 19,
      "outputs": [
        {
          "output_type": "display_data",
          "data": {
            "image/png": "[encoded data removed]",
            "text/plain": [
              "<Figure size 1080x432 with 1 Axes>"
            ]
          },
          "metadata": {
            "tags": [],
            "needs_background": "light"
          }
        }
      ]
    },
    {
      "cell_type": "markdown",
      "metadata": {
        "id": "_4-HlQZ9pxN8",
        "colab_type": "text"
      },
      "source": [
        "A recuperação tem se mantido com pouca oscilação nos últimos 4 anos e se encontra sempre em torno de 52%."
      ]
    },
    {
      "cell_type": "code",
      "metadata": {
        "id": "xH97eG__bJA1",
        "colab_type": "code",
        "colab": {
          "base_uri": "https://localhost:8080/",
          "height": 377
        },
        "outputId": "6de03a00-a196-4ab6-b9a4-1556bdeb3b7f"
      },
      "source": [
        "df.plot(y=['total_furtos','total_roubos'],figsize=(15,6))\n",
        "plt.show()"
      ],
      "execution_count": 20,
      "outputs": [
        {
          "output_type": "display_data",
          "data": {
            "image/png": "[encoded data removed]",
            "text/plain": [
              "<Figure size 1080x432 with 1 Axes>"
            ]
          },
          "metadata": {
            "tags": [],
            "needs_background": "light"
          }
        }
      ]
    },
    {
      "cell_type": "code",
      "metadata": {
        "id": "20GG7twlbI-d",
        "colab_type": "code",
        "colab": {
          "base_uri": "https://localhost:8080/",
          "height": 431
        },
        "outputId": "6567cd10-b724-43c1-8af4-6dba39337bf3"
      },
      "source": [
        "df.plot(x=['total_furtos'],y=['total_roubos'],figsize=(15,6),kind='scatter')\n",
        "plt.ylabel('Total de roubos')\n",
        "plt.xlabel('Total de furtos')\n",
        "plt.show()"
      ],
      "execution_count": 21,
      "outputs": [
        {
          "output_type": "stream",
          "text": [
            "*c* argument looks like a single numeric RGB or RGBA sequence, which should be avoided as value-mapping will have precedence in case its length matches with *x* & *y*.  Please use the *color* keyword-argument or provide a 2-D array with a single row if you intend to specify the same RGB or RGBA value for all points.\n"
          ],
          "name": "stderr"
        },
        {
          "output_type": "display_data",
          "data": {
            "image/png": "[encoded data removed]",
            "text/plain": [
              "<Figure size 1080x432 with 1 Axes>"
            ]
          },
          "metadata": {
            "tags": [],
            "needs_background": "light"
          }
        }
      ]
    },
    {
      "cell_type": "markdown",
      "metadata": {
        "id": "X3xfoJiJru0V",
        "colab_type": "text"
      },
      "source": [
        "O número total de roubos tem uma correlação considerável com o total de furtos pois retratam épocas que o policiamento não estava sendo executado com eficiência. Calculemos o coeficiente de correlação entre estes:"
      ]
    },
    {
      "cell_type": "code",
      "metadata": {
        "id": "DUL5Adn4ruVu",
        "colab_type": "code",
        "colab": {
          "base_uri": "https://localhost:8080/",
          "height": 34
        },
        "outputId": "1bbd4c11-b54c-4413-8e2c-ea649d9dd112"
      },
      "source": [
        "np.corrcoef(df.total_roubos,df.total_furtos)[0][1]"
      ],
      "execution_count": 22,
      "outputs": [
        {
          "output_type": "execute_result",
          "data": {
            "text/plain": [
              "0.7187487340974522"
            ]
          },
          "metadata": {
            "tags": []
          },
          "execution_count": 22
        }
      ]
    },
    {
      "cell_type": "markdown",
      "metadata": {
        "id": "PLCgnGAHsWk6",
        "colab_type": "text"
      },
      "source": [
        "Este coeficiente confirma o que foi suposto de que o crescimento de um está consideravelmente ligado ao crescimento de outro."
      ]
    },
    {
      "cell_type": "markdown",
      "metadata": {
        "id": "XlCVMVGMoGFd",
        "colab_type": "text"
      },
      "source": [
        "##Comparação Brasil x Rio de Janeiro\n",
        "\n",
        "Agora vamos verificar graficamente a relação da taxa de homicídios a cada 100mil habitantes para o Brasil com a taxa para o estado do Rio entre os anos de 1981 e 2015."
      ]
    },
    {
      "cell_type": "markdown",
      "metadata": {
        "id": "JrxbKVm1ojvs",
        "colab_type": "text"
      },
      "source": [
        "Primeiramente, vejamos como estão nossos datasets importados no começo deste notebook."
      ]
    },
    {
      "cell_type": "code",
      "metadata": {
        "id": "fm_hkiBHo4rs",
        "colab_type": "code",
        "colab": {
          "base_uri": "https://localhost:8080/",
          "height": 34
        },
        "outputId": "805f0292-a8a8-4680-b66a-9c8ae8bbc8c8"
      },
      "source": [
        "uf_homicidios.shape"
      ],
      "execution_count": 23,
      "outputs": [
        {
          "output_type": "execute_result",
          "data": {
            "text/plain": [
              "(999, 4)"
            ]
          },
          "metadata": {
            "tags": []
          },
          "execution_count": 23
        }
      ]
    },
    {
      "cell_type": "code",
      "metadata": {
        "id": "F9yA16khotGG",
        "colab_type": "code",
        "colab": {
          "base_uri": "https://localhost:8080/",
          "height": 204
        },
        "outputId": "3b823354-42aa-40a6-d962-85eb437428a3"
      },
      "source": [
        "uf_homicidios.head()\n"
      ],
      "execution_count": 24,
      "outputs": [
        {
          "output_type": "execute_result",
          "data": {
            "text/html": [
              "<div>\n",
              "<style scoped>\n",
              "    .dataframe tbody tr th:only-of-type {\n",
              "        vertical-align: middle;\n",
              "    }\n",
              "\n",
              "    .dataframe tbody tr th {\n",
              "        vertical-align: top;\n",
              "    }\n",
              "\n",
              "    .dataframe thead th {\n",
              "        text-align: right;\n",
              "    }\n",
              "</style>\n",
              "<table border=\"1\" class=\"dataframe\">\n",
              "  <thead>\n",
              "    <tr style=\"text-align: right;\">\n",
              "      <th></th>\n",
              "      <th>cod</th>\n",
              "      <th>nome</th>\n",
              "      <th>período</th>\n",
              "      <th>valor</th>\n",
              "    </tr>\n",
              "  </thead>\n",
              "  <tbody>\n",
              "    <tr>\n",
              "      <th>0</th>\n",
              "      <td>11</td>\n",
              "      <td>RO</td>\n",
              "      <td>1981</td>\n",
              "      <td>23.67</td>\n",
              "    </tr>\n",
              "    <tr>\n",
              "      <th>1</th>\n",
              "      <td>53</td>\n",
              "      <td>DF</td>\n",
              "      <td>1981</td>\n",
              "      <td>13.89</td>\n",
              "    </tr>\n",
              "    <tr>\n",
              "      <th>2</th>\n",
              "      <td>52</td>\n",
              "      <td>GO</td>\n",
              "      <td>1981</td>\n",
              "      <td>18.78</td>\n",
              "    </tr>\n",
              "    <tr>\n",
              "      <th>3</th>\n",
              "      <td>51</td>\n",
              "      <td>MT</td>\n",
              "      <td>1981</td>\n",
              "      <td>6.38</td>\n",
              "    </tr>\n",
              "    <tr>\n",
              "      <th>4</th>\n",
              "      <td>50</td>\n",
              "      <td>MS</td>\n",
              "      <td>1981</td>\n",
              "      <td>17.98</td>\n",
              "    </tr>\n",
              "  </tbody>\n",
              "</table>\n",
              "</div>"
            ],
            "text/plain": [
              "   cod nome  período  valor\n",
              "0   11   RO     1981  23.67\n",
              "1   53   DF     1981  13.89\n",
              "2   52   GO     1981  18.78\n",
              "3   51   MT     1981   6.38\n",
              "4   50   MS     1981  17.98"
            ]
          },
          "metadata": {
            "tags": []
          },
          "execution_count": 24
        }
      ]
    },
    {
      "cell_type": "markdown",
      "metadata": {
        "id": "yZJrP47XtW8Q",
        "colab_type": "text"
      },
      "source": [
        "Como a taxa tem de todas unidades federativas, vamos filtrar pelo nome para obter apenas o do RJ."
      ]
    },
    {
      "cell_type": "markdown",
      "metadata": {
        "id": "8-uVKh-VpC3A",
        "colab_type": "text"
      },
      "source": [
        "Ambos datasets são compostos pelas mesmas colunas, porém o dataset por unidade federativa apresenta 999 linhas enquanto o do país apresenta apenas 37 linhas. Isso é de se esperar dado que possuimos 27 unidades federativas, porém analisaremos apenas uma que é o RJ, assim tomaremos apenas as linhas em que a coluna nome seja igual a 'RJ'."
      ]
    },
    {
      "cell_type": "code",
      "metadata": {
        "id": "Uzd2rgInp1vg",
        "colab_type": "code",
        "colab": {
          "base_uri": "https://localhost:8080/",
          "height": 34
        },
        "outputId": "bab4bbbb-c937-4cc9-d3bd-dc58c6eae818"
      },
      "source": [
        "rj_homicidios = uf_homicidios[uf_homicidios['nome']=='RJ']\n",
        "rj_homicidios.shape"
      ],
      "execution_count": 25,
      "outputs": [
        {
          "output_type": "execute_result",
          "data": {
            "text/plain": [
              "(37, 4)"
            ]
          },
          "metadata": {
            "tags": []
          },
          "execution_count": 25
        }
      ]
    },
    {
      "cell_type": "code",
      "metadata": {
        "id": "aWg29mYOqSMd",
        "colab_type": "code",
        "colab": {
          "base_uri": "https://localhost:8080/",
          "height": 204
        },
        "outputId": "15a0be15-a7f6-4137-b0b2-12843525ece1"
      },
      "source": [
        "rj_homicidios.head()"
      ],
      "execution_count": 26,
      "outputs": [
        {
          "output_type": "execute_result",
          "data": {
            "text/html": [
              "<div>\n",
              "<style scoped>\n",
              "    .dataframe tbody tr th:only-of-type {\n",
              "        vertical-align: middle;\n",
              "    }\n",
              "\n",
              "    .dataframe tbody tr th {\n",
              "        vertical-align: top;\n",
              "    }\n",
              "\n",
              "    .dataframe thead th {\n",
              "        text-align: right;\n",
              "    }\n",
              "</style>\n",
              "<table border=\"1\" class=\"dataframe\">\n",
              "  <thead>\n",
              "    <tr style=\"text-align: right;\">\n",
              "      <th></th>\n",
              "      <th>cod</th>\n",
              "      <th>nome</th>\n",
              "      <th>período</th>\n",
              "      <th>valor</th>\n",
              "    </tr>\n",
              "  </thead>\n",
              "  <tbody>\n",
              "    <tr>\n",
              "      <th>9</th>\n",
              "      <td>33</td>\n",
              "      <td>RJ</td>\n",
              "      <td>1981</td>\n",
              "      <td>21.92</td>\n",
              "    </tr>\n",
              "    <tr>\n",
              "      <th>36</th>\n",
              "      <td>33</td>\n",
              "      <td>RJ</td>\n",
              "      <td>1982</td>\n",
              "      <td>18.87</td>\n",
              "    </tr>\n",
              "    <tr>\n",
              "      <th>63</th>\n",
              "      <td>33</td>\n",
              "      <td>RJ</td>\n",
              "      <td>1983</td>\n",
              "      <td>15.94</td>\n",
              "    </tr>\n",
              "    <tr>\n",
              "      <th>86</th>\n",
              "      <td>33</td>\n",
              "      <td>RJ</td>\n",
              "      <td>1984</td>\n",
              "      <td>20.85</td>\n",
              "    </tr>\n",
              "    <tr>\n",
              "      <th>127</th>\n",
              "      <td>33</td>\n",
              "      <td>RJ</td>\n",
              "      <td>1985</td>\n",
              "      <td>21.21</td>\n",
              "    </tr>\n",
              "  </tbody>\n",
              "</table>\n",
              "</div>"
            ],
            "text/plain": [
              "     cod nome  período  valor\n",
              "9     33   RJ     1981  21.92\n",
              "36    33   RJ     1982  18.87\n",
              "63    33   RJ     1983  15.94\n",
              "86    33   RJ     1984  20.85\n",
              "127   33   RJ     1985  21.21"
            ]
          },
          "metadata": {
            "tags": []
          },
          "execution_count": 26
        }
      ]
    },
    {
      "cell_type": "code",
      "metadata": {
        "id": "4yS36bLno6s2",
        "colab_type": "code",
        "colab": {
          "base_uri": "https://localhost:8080/",
          "height": 34
        },
        "outputId": "0a4dc0fa-4ca8-407f-8b4b-a3afafb47c4f"
      },
      "source": [
        "br_homicidios.shape"
      ],
      "execution_count": 27,
      "outputs": [
        {
          "output_type": "execute_result",
          "data": {
            "text/plain": [
              "(37, 4)"
            ]
          },
          "metadata": {
            "tags": []
          },
          "execution_count": 27
        }
      ]
    },
    {
      "cell_type": "code",
      "metadata": {
        "id": "_ymUYhybosvC",
        "colab_type": "code",
        "colab": {
          "base_uri": "https://localhost:8080/",
          "height": 204
        },
        "outputId": "905a1215-c500-4f37-c729-aafb15406189"
      },
      "source": [
        "br_homicidios.head()"
      ],
      "execution_count": 28,
      "outputs": [
        {
          "output_type": "execute_result",
          "data": {
            "text/html": [
              "<div>\n",
              "<style scoped>\n",
              "    .dataframe tbody tr th:only-of-type {\n",
              "        vertical-align: middle;\n",
              "    }\n",
              "\n",
              "    .dataframe tbody tr th {\n",
              "        vertical-align: top;\n",
              "    }\n",
              "\n",
              "    .dataframe thead th {\n",
              "        text-align: right;\n",
              "    }\n",
              "</style>\n",
              "<table border=\"1\" class=\"dataframe\">\n",
              "  <thead>\n",
              "    <tr style=\"text-align: right;\">\n",
              "      <th></th>\n",
              "      <th>cod</th>\n",
              "      <th>nome</th>\n",
              "      <th>período</th>\n",
              "      <th>valor</th>\n",
              "    </tr>\n",
              "  </thead>\n",
              "  <tbody>\n",
              "    <tr>\n",
              "      <th>0</th>\n",
              "      <td>1076</td>\n",
              "      <td>BRA</td>\n",
              "      <td>1981</td>\n",
              "      <td>12.56</td>\n",
              "    </tr>\n",
              "    <tr>\n",
              "      <th>1</th>\n",
              "      <td>1076</td>\n",
              "      <td>BRA</td>\n",
              "      <td>1982</td>\n",
              "      <td>12.57</td>\n",
              "    </tr>\n",
              "    <tr>\n",
              "      <th>2</th>\n",
              "      <td>1076</td>\n",
              "      <td>BRA</td>\n",
              "      <td>1983</td>\n",
              "      <td>13.77</td>\n",
              "    </tr>\n",
              "    <tr>\n",
              "      <th>3</th>\n",
              "      <td>1076</td>\n",
              "      <td>BRA</td>\n",
              "      <td>1984</td>\n",
              "      <td>15.32</td>\n",
              "    </tr>\n",
              "    <tr>\n",
              "      <th>4</th>\n",
              "      <td>1076</td>\n",
              "      <td>BRA</td>\n",
              "      <td>1985</td>\n",
              "      <td>15.00</td>\n",
              "    </tr>\n",
              "  </tbody>\n",
              "</table>\n",
              "</div>"
            ],
            "text/plain": [
              "    cod nome  período  valor\n",
              "0  1076  BRA     1981  12.56\n",
              "1  1076  BRA     1982  12.57\n",
              "2  1076  BRA     1983  13.77\n",
              "3  1076  BRA     1984  15.32\n",
              "4  1076  BRA     1985  15.00"
            ]
          },
          "metadata": {
            "tags": []
          },
          "execution_count": 28
        }
      ]
    },
    {
      "cell_type": "code",
      "metadata": {
        "id": "KtGdLbAl14ln",
        "colab_type": "code",
        "colab": {
          "base_uri": "https://localhost:8080/",
          "height": 411
        },
        "outputId": "9f31cc4f-b4c9-498f-d1b1-622402cba5cd"
      },
      "source": [
        "plt.figure(figsize=(15,6))\n",
        "plt.plot(rj_homicidios['período'],rj_homicidios.valor,br_homicidios['período'],br_homicidios.valor)\n",
        "plt.legend(['RJ', 'BR'])\n",
        "plt.xlabel('Período')\n",
        "plt.ylabel('Homicídios per 100k')\n",
        "plt.figure(figsize=(15,6))\n",
        "plt.show()"
      ],
      "execution_count": 29,
      "outputs": [
        {
          "output_type": "display_data",
          "data": {
            "image/png": "[encoded data removed]",
            "text/plain": [
              "<Figure size 1080x432 with 1 Axes>"
            ]
          },
          "metadata": {
            "tags": [],
            "needs_background": "light"
          }
        },
        {
          "output_type": "display_data",
          "data": {
            "text/plain": [
              "<Figure size 1080x432 with 0 Axes>"
            ]
          },
          "metadata": {
            "tags": []
          }
        }
      ]
    },
    {
      "cell_type": "markdown",
      "metadata": {
        "id": "V7crSm9F3RC8",
        "colab_type": "text"
      },
      "source": [
        "Pelo gráfico o problema de violência do estado torna-se evidente, no últimos 26 anos em momento algum o Rio se manteve abaixo da taxa de homicídios nacional, e vem elevando a média nacional a cada ano."
      ]
    },
    {
      "cell_type": "markdown",
      "metadata": {
        "id": "LCsiXvM3BcsO",
        "colab_type": "text"
      },
      "source": [
        "## Conclusão\n",
        "\n",
        "Por meio de uma análise básica de variáveis do nosso banco de dados pudemos extrair informações muito úteis e que não são evidentes sem uma exploração inicial dos dados e por meio disso vêmos que o problema da violência no Rio de Janeiro tem se tornado algo endêmico quando comparado ao país como um todo.\n",
        "\n",
        "Apesar de taxas como roubos de veículos terem aumentado nos últimos tempos também temos que as taxas de homicídio doloso tem diminuído, e pelo histórico recente sabemos que esse problema ainda está muito longe de ter uma solução que de fato diminua todos indícios de criminalidade. "
      ]
    }
  ]
}